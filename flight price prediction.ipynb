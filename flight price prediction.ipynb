{
 "cells": [
  {
   "cell_type": "code",
   "execution_count": 3,
   "id": "4ac2e4d5",
   "metadata": {},
   "outputs": [],
   "source": [
    "import numpy as np\n",
    "import pandas as pd\n",
    "import seaborn as sns\n",
    "import matplotlib.pyplot as plt\n",
    "import warnings\n",
    "warnings.filterwarnings('ignore')\n",
    "\n",
    "from statsmodels.stats.outliers_influence import variance_inflation_factor\n",
    "import statsmodels.api as sma\n",
    "import statsmodels.stats.api as smsa\n",
    "from statsmodels.graphics.gofplots import qqplot\n",
    "\n",
    "from sklearn.model_selection import train_test_split\n",
    "from sklearn.metrics import r2_score,mean_squared_error,mean_absolute_error,mean_absolute_percentage_error\n",
    "from sklearn.linear_model import LinearRegression,Lasso,Ridge,ElasticNet,SGDRegressor\n",
    "from sklearn.neighbors import KNeighborsRegressor\n",
    "from sklearn.ensemble import GradientBoostingRegressor\n",
    "from sklearn.tree import DecisionTreeRegressor\n",
    "from sklearn.model_selection import KFold, cross_val_score\n",
    "\n",
    "import category_encoders as ce"
   ]
  },
  {
   "cell_type": "code",
   "execution_count": 4,
   "id": "1d59ee3d",
   "metadata": {},
   "outputs": [],
   "source": [
    "data = pd.read_excel('flight data.xlsx')"
   ]
  },
  {
   "cell_type": "code",
   "execution_count": 5,
   "id": "ffbea243",
   "metadata": {},
   "outputs": [
    {
     "data": {
      "text/html": [
       "<div>\n",
       "<style scoped>\n",
       "    .dataframe tbody tr th:only-of-type {\n",
       "        vertical-align: middle;\n",
       "    }\n",
       "\n",
       "    .dataframe tbody tr th {\n",
       "        vertical-align: top;\n",
       "    }\n",
       "\n",
       "    .dataframe thead th {\n",
       "        text-align: right;\n",
       "    }\n",
       "</style>\n",
       "<table border=\"1\" class=\"dataframe\">\n",
       "  <thead>\n",
       "    <tr style=\"text-align: right;\">\n",
       "      <th></th>\n",
       "      <th>Airline</th>\n",
       "      <th>Date_of_Journey</th>\n",
       "      <th>Source</th>\n",
       "      <th>Destination</th>\n",
       "      <th>Route</th>\n",
       "      <th>Dep_Time</th>\n",
       "      <th>Arrival_Time</th>\n",
       "      <th>Duration</th>\n",
       "      <th>Total_Stops</th>\n",
       "      <th>Additional_Info</th>\n",
       "      <th>Price</th>\n",
       "    </tr>\n",
       "  </thead>\n",
       "  <tbody>\n",
       "    <tr>\n",
       "      <th>0</th>\n",
       "      <td>IndiGo</td>\n",
       "      <td>24/03/2019</td>\n",
       "      <td>Banglore</td>\n",
       "      <td>New Delhi</td>\n",
       "      <td>BLR → DEL</td>\n",
       "      <td>22:20</td>\n",
       "      <td>01:10 22 Mar</td>\n",
       "      <td>2h 50m</td>\n",
       "      <td>non-stop</td>\n",
       "      <td>No info</td>\n",
       "      <td>3897</td>\n",
       "    </tr>\n",
       "    <tr>\n",
       "      <th>1</th>\n",
       "      <td>Air India</td>\n",
       "      <td>1/05/2019</td>\n",
       "      <td>Kolkata</td>\n",
       "      <td>Banglore</td>\n",
       "      <td>CCU → IXR → BBI → BLR</td>\n",
       "      <td>05:50</td>\n",
       "      <td>13:15</td>\n",
       "      <td>7h 25m</td>\n",
       "      <td>2 stops</td>\n",
       "      <td>No info</td>\n",
       "      <td>7662</td>\n",
       "    </tr>\n",
       "    <tr>\n",
       "      <th>2</th>\n",
       "      <td>Jet Airways</td>\n",
       "      <td>9/06/2019</td>\n",
       "      <td>Delhi</td>\n",
       "      <td>Cochin</td>\n",
       "      <td>DEL → LKO → BOM → COK</td>\n",
       "      <td>09:25</td>\n",
       "      <td>04:25 10 Jun</td>\n",
       "      <td>19h</td>\n",
       "      <td>2 stops</td>\n",
       "      <td>No info</td>\n",
       "      <td>13882</td>\n",
       "    </tr>\n",
       "    <tr>\n",
       "      <th>3</th>\n",
       "      <td>IndiGo</td>\n",
       "      <td>12/05/2019</td>\n",
       "      <td>Kolkata</td>\n",
       "      <td>Banglore</td>\n",
       "      <td>CCU → NAG → BLR</td>\n",
       "      <td>18:05</td>\n",
       "      <td>23:30</td>\n",
       "      <td>5h 25m</td>\n",
       "      <td>1 stop</td>\n",
       "      <td>No info</td>\n",
       "      <td>6218</td>\n",
       "    </tr>\n",
       "    <tr>\n",
       "      <th>4</th>\n",
       "      <td>IndiGo</td>\n",
       "      <td>01/03/2019</td>\n",
       "      <td>Banglore</td>\n",
       "      <td>New Delhi</td>\n",
       "      <td>BLR → NAG → DEL</td>\n",
       "      <td>16:50</td>\n",
       "      <td>21:35</td>\n",
       "      <td>4h 45m</td>\n",
       "      <td>1 stop</td>\n",
       "      <td>No info</td>\n",
       "      <td>13302</td>\n",
       "    </tr>\n",
       "  </tbody>\n",
       "</table>\n",
       "</div>"
      ],
      "text/plain": [
       "       Airline Date_of_Journey    Source Destination                  Route   \n",
       "0       IndiGo      24/03/2019  Banglore   New Delhi              BLR → DEL  \\\n",
       "1    Air India       1/05/2019   Kolkata    Banglore  CCU → IXR → BBI → BLR   \n",
       "2  Jet Airways       9/06/2019     Delhi      Cochin  DEL → LKO → BOM → COK   \n",
       "3       IndiGo      12/05/2019   Kolkata    Banglore        CCU → NAG → BLR   \n",
       "4       IndiGo      01/03/2019  Banglore   New Delhi        BLR → NAG → DEL   \n",
       "\n",
       "  Dep_Time  Arrival_Time Duration Total_Stops Additional_Info  Price  \n",
       "0    22:20  01:10 22 Mar   2h 50m    non-stop         No info   3897  \n",
       "1    05:50         13:15   7h 25m     2 stops         No info   7662  \n",
       "2    09:25  04:25 10 Jun      19h     2 stops         No info  13882  \n",
       "3    18:05         23:30   5h 25m      1 stop         No info   6218  \n",
       "4    16:50         21:35   4h 45m      1 stop         No info  13302  "
      ]
     },
     "execution_count": 5,
     "metadata": {},
     "output_type": "execute_result"
    }
   ],
   "source": [
    "data.head()"
   ]
  },
  {
   "cell_type": "code",
   "execution_count": 6,
   "id": "bf74e4fa",
   "metadata": {},
   "outputs": [
    {
     "data": {
      "text/html": [
       "<div>\n",
       "<style scoped>\n",
       "    .dataframe tbody tr th:only-of-type {\n",
       "        vertical-align: middle;\n",
       "    }\n",
       "\n",
       "    .dataframe tbody tr th {\n",
       "        vertical-align: top;\n",
       "    }\n",
       "\n",
       "    .dataframe thead th {\n",
       "        text-align: right;\n",
       "    }\n",
       "</style>\n",
       "<table border=\"1\" class=\"dataframe\">\n",
       "  <thead>\n",
       "    <tr style=\"text-align: right;\">\n",
       "      <th></th>\n",
       "      <th>Airline</th>\n",
       "      <th>Date_of_Journey</th>\n",
       "      <th>Source</th>\n",
       "      <th>Destination</th>\n",
       "      <th>Route</th>\n",
       "      <th>Dep_Time</th>\n",
       "      <th>Arrival_Time</th>\n",
       "      <th>Duration</th>\n",
       "      <th>Total_Stops</th>\n",
       "      <th>Additional_Info</th>\n",
       "      <th>Price</th>\n",
       "    </tr>\n",
       "  </thead>\n",
       "  <tbody>\n",
       "    <tr>\n",
       "      <th>6474</th>\n",
       "      <td>Air India</td>\n",
       "      <td>6/03/2019</td>\n",
       "      <td>Mumbai</td>\n",
       "      <td>Hyderabad</td>\n",
       "      <td>BOM → GOI → PNQ → HYD</td>\n",
       "      <td>16:50</td>\n",
       "      <td>16:55</td>\n",
       "      <td>5m</td>\n",
       "      <td>2 stops</td>\n",
       "      <td>No info</td>\n",
       "      <td>17327</td>\n",
       "    </tr>\n",
       "  </tbody>\n",
       "</table>\n",
       "</div>"
      ],
      "text/plain": [
       "        Airline Date_of_Journey  Source Destination                  Route   \n",
       "6474  Air India       6/03/2019  Mumbai   Hyderabad  BOM → GOI → PNQ → HYD  \\\n",
       "\n",
       "     Dep_Time Arrival_Time Duration Total_Stops Additional_Info  Price  \n",
       "6474    16:50        16:55       5m     2 stops         No info  17327  "
      ]
     },
     "execution_count": 6,
     "metadata": {},
     "output_type": "execute_result"
    }
   ],
   "source": [
    "data[data['Duration']=='5m']"
   ]
  },
  {
   "cell_type": "code",
   "execution_count": 7,
   "id": "a95df7d2",
   "metadata": {},
   "outputs": [
    {
     "name": "stdout",
     "output_type": "stream",
     "text": [
      "Rows: 10683\n",
      "Columns: 11\n"
     ]
    }
   ],
   "source": [
    "print('Rows:',data.shape[0])\n",
    "print('Columns:',data.shape[1])"
   ]
  },
  {
   "cell_type": "code",
   "execution_count": 8,
   "id": "ab7e4995",
   "metadata": {},
   "outputs": [
    {
     "name": "stdout",
     "output_type": "stream",
     "text": [
      "<class 'pandas.core.frame.DataFrame'>\n",
      "RangeIndex: 10683 entries, 0 to 10682\n",
      "Data columns (total 11 columns):\n",
      " #   Column           Non-Null Count  Dtype \n",
      "---  ------           --------------  ----- \n",
      " 0   Airline          10683 non-null  object\n",
      " 1   Date_of_Journey  10683 non-null  object\n",
      " 2   Source           10683 non-null  object\n",
      " 3   Destination      10683 non-null  object\n",
      " 4   Route            10682 non-null  object\n",
      " 5   Dep_Time         10683 non-null  object\n",
      " 6   Arrival_Time     10683 non-null  object\n",
      " 7   Duration         10683 non-null  object\n",
      " 8   Total_Stops      10682 non-null  object\n",
      " 9   Additional_Info  10683 non-null  object\n",
      " 10  Price            10683 non-null  int64 \n",
      "dtypes: int64(1), object(10)\n",
      "memory usage: 918.2+ KB\n"
     ]
    }
   ],
   "source": [
    "data.info()"
   ]
  },
  {
   "cell_type": "code",
   "execution_count": 9,
   "id": "30d5eb9f",
   "metadata": {},
   "outputs": [
    {
     "data": {
      "text/html": [
       "<div>\n",
       "<style scoped>\n",
       "    .dataframe tbody tr th:only-of-type {\n",
       "        vertical-align: middle;\n",
       "    }\n",
       "\n",
       "    .dataframe tbody tr th {\n",
       "        vertical-align: top;\n",
       "    }\n",
       "\n",
       "    .dataframe thead th {\n",
       "        text-align: right;\n",
       "    }\n",
       "</style>\n",
       "<table border=\"1\" class=\"dataframe\">\n",
       "  <thead>\n",
       "    <tr style=\"text-align: right;\">\n",
       "      <th></th>\n",
       "      <th>count</th>\n",
       "      <th>mean</th>\n",
       "      <th>std</th>\n",
       "      <th>min</th>\n",
       "      <th>25%</th>\n",
       "      <th>50%</th>\n",
       "      <th>75%</th>\n",
       "      <th>max</th>\n",
       "    </tr>\n",
       "  </thead>\n",
       "  <tbody>\n",
       "    <tr>\n",
       "      <th>Price</th>\n",
       "      <td>10683.0</td>\n",
       "      <td>9087.064121</td>\n",
       "      <td>4611.359167</td>\n",
       "      <td>1759.0</td>\n",
       "      <td>5277.0</td>\n",
       "      <td>8372.0</td>\n",
       "      <td>12373.0</td>\n",
       "      <td>79512.0</td>\n",
       "    </tr>\n",
       "  </tbody>\n",
       "</table>\n",
       "</div>"
      ],
      "text/plain": [
       "         count         mean          std     min     25%     50%      75%   \n",
       "Price  10683.0  9087.064121  4611.359167  1759.0  5277.0  8372.0  12373.0  \\\n",
       "\n",
       "           max  \n",
       "Price  79512.0  "
      ]
     },
     "execution_count": 9,
     "metadata": {},
     "output_type": "execute_result"
    }
   ],
   "source": [
    "data.describe().T"
   ]
  },
  {
   "cell_type": "code",
   "execution_count": 10,
   "id": "8758f0bc",
   "metadata": {},
   "outputs": [
    {
     "data": {
      "text/html": [
       "<div>\n",
       "<style scoped>\n",
       "    .dataframe tbody tr th:only-of-type {\n",
       "        vertical-align: middle;\n",
       "    }\n",
       "\n",
       "    .dataframe tbody tr th {\n",
       "        vertical-align: top;\n",
       "    }\n",
       "\n",
       "    .dataframe thead th {\n",
       "        text-align: right;\n",
       "    }\n",
       "</style>\n",
       "<table border=\"1\" class=\"dataframe\">\n",
       "  <thead>\n",
       "    <tr style=\"text-align: right;\">\n",
       "      <th></th>\n",
       "      <th>count</th>\n",
       "      <th>unique</th>\n",
       "      <th>top</th>\n",
       "      <th>freq</th>\n",
       "    </tr>\n",
       "  </thead>\n",
       "  <tbody>\n",
       "    <tr>\n",
       "      <th>Airline</th>\n",
       "      <td>10683</td>\n",
       "      <td>12</td>\n",
       "      <td>Jet Airways</td>\n",
       "      <td>3849</td>\n",
       "    </tr>\n",
       "    <tr>\n",
       "      <th>Date_of_Journey</th>\n",
       "      <td>10683</td>\n",
       "      <td>44</td>\n",
       "      <td>18/05/2019</td>\n",
       "      <td>504</td>\n",
       "    </tr>\n",
       "    <tr>\n",
       "      <th>Source</th>\n",
       "      <td>10683</td>\n",
       "      <td>5</td>\n",
       "      <td>Delhi</td>\n",
       "      <td>4537</td>\n",
       "    </tr>\n",
       "    <tr>\n",
       "      <th>Destination</th>\n",
       "      <td>10683</td>\n",
       "      <td>6</td>\n",
       "      <td>Cochin</td>\n",
       "      <td>4537</td>\n",
       "    </tr>\n",
       "    <tr>\n",
       "      <th>Route</th>\n",
       "      <td>10682</td>\n",
       "      <td>128</td>\n",
       "      <td>DEL → BOM → COK</td>\n",
       "      <td>2376</td>\n",
       "    </tr>\n",
       "    <tr>\n",
       "      <th>Dep_Time</th>\n",
       "      <td>10683</td>\n",
       "      <td>222</td>\n",
       "      <td>18:55</td>\n",
       "      <td>233</td>\n",
       "    </tr>\n",
       "    <tr>\n",
       "      <th>Arrival_Time</th>\n",
       "      <td>10683</td>\n",
       "      <td>1343</td>\n",
       "      <td>19:00</td>\n",
       "      <td>423</td>\n",
       "    </tr>\n",
       "    <tr>\n",
       "      <th>Duration</th>\n",
       "      <td>10683</td>\n",
       "      <td>368</td>\n",
       "      <td>2h 50m</td>\n",
       "      <td>550</td>\n",
       "    </tr>\n",
       "    <tr>\n",
       "      <th>Total_Stops</th>\n",
       "      <td>10682</td>\n",
       "      <td>5</td>\n",
       "      <td>1 stop</td>\n",
       "      <td>5625</td>\n",
       "    </tr>\n",
       "    <tr>\n",
       "      <th>Additional_Info</th>\n",
       "      <td>10683</td>\n",
       "      <td>10</td>\n",
       "      <td>No info</td>\n",
       "      <td>8345</td>\n",
       "    </tr>\n",
       "  </tbody>\n",
       "</table>\n",
       "</div>"
      ],
      "text/plain": [
       "                 count unique              top  freq\n",
       "Airline          10683     12      Jet Airways  3849\n",
       "Date_of_Journey  10683     44       18/05/2019   504\n",
       "Source           10683      5            Delhi  4537\n",
       "Destination      10683      6           Cochin  4537\n",
       "Route            10682    128  DEL → BOM → COK  2376\n",
       "Dep_Time         10683    222            18:55   233\n",
       "Arrival_Time     10683   1343            19:00   423\n",
       "Duration         10683    368           2h 50m   550\n",
       "Total_Stops      10682      5           1 stop  5625\n",
       "Additional_Info  10683     10          No info  8345"
      ]
     },
     "execution_count": 10,
     "metadata": {},
     "output_type": "execute_result"
    }
   ],
   "source": [
    "data.describe(include=object).T"
   ]
  },
  {
   "cell_type": "markdown",
   "id": "a5b329c1",
   "metadata": {},
   "source": [
    "### Lets explore the columns first and try to get maximum information out of columns"
   ]
  },
  {
   "cell_type": "code",
   "execution_count": 11,
   "id": "ba22016b",
   "metadata": {},
   "outputs": [
    {
     "data": {
      "text/plain": [
       "Airline\n",
       "Jet Airways                          3849\n",
       "IndiGo                               2053\n",
       "Air India                            1752\n",
       "Multiple carriers                    1196\n",
       "SpiceJet                              818\n",
       "Vistara                               479\n",
       "Air Asia                              319\n",
       "GoAir                                 194\n",
       "Multiple carriers Premium economy      13\n",
       "Jet Airways Business                    6\n",
       "Vistara Premium economy                 3\n",
       "Trujet                                  1\n",
       "Name: count, dtype: int64"
      ]
     },
     "execution_count": 11,
     "metadata": {},
     "output_type": "execute_result"
    }
   ],
   "source": [
    "# Airline\n",
    "data['Airline'].value_counts()"
   ]
  },
  {
   "cell_type": "code",
   "execution_count": 12,
   "id": "452dc827",
   "metadata": {},
   "outputs": [],
   "source": [
    "# Date of journey\n",
    "data['Date_of_Journey']=pd.to_datetime(data['Date_of_Journey'],\n",
    "                                       format='%d/%m/%Y')"
   ]
  },
  {
   "cell_type": "code",
   "execution_count": 13,
   "id": "88b6a205",
   "metadata": {},
   "outputs": [],
   "source": [
    "data['Journey_day'] = data['Date_of_Journey'].dt.day\n",
    "data['Journey_month'] = data['Date_of_Journey'].dt.month\n",
    "data['Jouney_wkday'] = data['Date_of_Journey'].dt.weekday"
   ]
  },
  {
   "cell_type": "code",
   "execution_count": 14,
   "id": "2cab26c0",
   "metadata": {},
   "outputs": [
    {
     "data": {
      "text/html": [
       "<div>\n",
       "<style scoped>\n",
       "    .dataframe tbody tr th:only-of-type {\n",
       "        vertical-align: middle;\n",
       "    }\n",
       "\n",
       "    .dataframe tbody tr th {\n",
       "        vertical-align: top;\n",
       "    }\n",
       "\n",
       "    .dataframe thead th {\n",
       "        text-align: right;\n",
       "    }\n",
       "</style>\n",
       "<table border=\"1\" class=\"dataframe\">\n",
       "  <thead>\n",
       "    <tr style=\"text-align: right;\">\n",
       "      <th></th>\n",
       "      <th>Airline</th>\n",
       "      <th>Date_of_Journey</th>\n",
       "      <th>Source</th>\n",
       "      <th>Destination</th>\n",
       "      <th>Route</th>\n",
       "      <th>Dep_Time</th>\n",
       "      <th>Arrival_Time</th>\n",
       "      <th>Duration</th>\n",
       "      <th>Total_Stops</th>\n",
       "      <th>Additional_Info</th>\n",
       "      <th>Price</th>\n",
       "      <th>Journey_day</th>\n",
       "      <th>Journey_month</th>\n",
       "      <th>Jouney_wkday</th>\n",
       "    </tr>\n",
       "  </thead>\n",
       "  <tbody>\n",
       "    <tr>\n",
       "      <th>0</th>\n",
       "      <td>IndiGo</td>\n",
       "      <td>2019-03-24</td>\n",
       "      <td>Banglore</td>\n",
       "      <td>New Delhi</td>\n",
       "      <td>BLR → DEL</td>\n",
       "      <td>22:20</td>\n",
       "      <td>01:10 22 Mar</td>\n",
       "      <td>2h 50m</td>\n",
       "      <td>non-stop</td>\n",
       "      <td>No info</td>\n",
       "      <td>3897</td>\n",
       "      <td>24</td>\n",
       "      <td>3</td>\n",
       "      <td>6</td>\n",
       "    </tr>\n",
       "    <tr>\n",
       "      <th>1</th>\n",
       "      <td>Air India</td>\n",
       "      <td>2019-05-01</td>\n",
       "      <td>Kolkata</td>\n",
       "      <td>Banglore</td>\n",
       "      <td>CCU → IXR → BBI → BLR</td>\n",
       "      <td>05:50</td>\n",
       "      <td>13:15</td>\n",
       "      <td>7h 25m</td>\n",
       "      <td>2 stops</td>\n",
       "      <td>No info</td>\n",
       "      <td>7662</td>\n",
       "      <td>1</td>\n",
       "      <td>5</td>\n",
       "      <td>2</td>\n",
       "    </tr>\n",
       "    <tr>\n",
       "      <th>2</th>\n",
       "      <td>Jet Airways</td>\n",
       "      <td>2019-06-09</td>\n",
       "      <td>Delhi</td>\n",
       "      <td>Cochin</td>\n",
       "      <td>DEL → LKO → BOM → COK</td>\n",
       "      <td>09:25</td>\n",
       "      <td>04:25 10 Jun</td>\n",
       "      <td>19h</td>\n",
       "      <td>2 stops</td>\n",
       "      <td>No info</td>\n",
       "      <td>13882</td>\n",
       "      <td>9</td>\n",
       "      <td>6</td>\n",
       "      <td>6</td>\n",
       "    </tr>\n",
       "    <tr>\n",
       "      <th>3</th>\n",
       "      <td>IndiGo</td>\n",
       "      <td>2019-05-12</td>\n",
       "      <td>Kolkata</td>\n",
       "      <td>Banglore</td>\n",
       "      <td>CCU → NAG → BLR</td>\n",
       "      <td>18:05</td>\n",
       "      <td>23:30</td>\n",
       "      <td>5h 25m</td>\n",
       "      <td>1 stop</td>\n",
       "      <td>No info</td>\n",
       "      <td>6218</td>\n",
       "      <td>12</td>\n",
       "      <td>5</td>\n",
       "      <td>6</td>\n",
       "    </tr>\n",
       "    <tr>\n",
       "      <th>4</th>\n",
       "      <td>IndiGo</td>\n",
       "      <td>2019-03-01</td>\n",
       "      <td>Banglore</td>\n",
       "      <td>New Delhi</td>\n",
       "      <td>BLR → NAG → DEL</td>\n",
       "      <td>16:50</td>\n",
       "      <td>21:35</td>\n",
       "      <td>4h 45m</td>\n",
       "      <td>1 stop</td>\n",
       "      <td>No info</td>\n",
       "      <td>13302</td>\n",
       "      <td>1</td>\n",
       "      <td>3</td>\n",
       "      <td>4</td>\n",
       "    </tr>\n",
       "  </tbody>\n",
       "</table>\n",
       "</div>"
      ],
      "text/plain": [
       "       Airline Date_of_Journey    Source Destination                  Route   \n",
       "0       IndiGo      2019-03-24  Banglore   New Delhi              BLR → DEL  \\\n",
       "1    Air India      2019-05-01   Kolkata    Banglore  CCU → IXR → BBI → BLR   \n",
       "2  Jet Airways      2019-06-09     Delhi      Cochin  DEL → LKO → BOM → COK   \n",
       "3       IndiGo      2019-05-12   Kolkata    Banglore        CCU → NAG → BLR   \n",
       "4       IndiGo      2019-03-01  Banglore   New Delhi        BLR → NAG → DEL   \n",
       "\n",
       "  Dep_Time  Arrival_Time Duration Total_Stops Additional_Info  Price   \n",
       "0    22:20  01:10 22 Mar   2h 50m    non-stop         No info   3897  \\\n",
       "1    05:50         13:15   7h 25m     2 stops         No info   7662   \n",
       "2    09:25  04:25 10 Jun      19h     2 stops         No info  13882   \n",
       "3    18:05         23:30   5h 25m      1 stop         No info   6218   \n",
       "4    16:50         21:35   4h 45m      1 stop         No info  13302   \n",
       "\n",
       "   Journey_day  Journey_month  Jouney_wkday  \n",
       "0           24              3             6  \n",
       "1            1              5             2  \n",
       "2            9              6             6  \n",
       "3           12              5             6  \n",
       "4            1              3             4  "
      ]
     },
     "execution_count": 14,
     "metadata": {},
     "output_type": "execute_result"
    }
   ],
   "source": [
    "data.head()"
   ]
  },
  {
   "cell_type": "code",
   "execution_count": 15,
   "id": "8696d0ec",
   "metadata": {},
   "outputs": [
    {
     "data": {
      "text/plain": [
       "Source\n",
       "Delhi       4537\n",
       "Kolkata     2871\n",
       "Banglore    2197\n",
       "Mumbai       697\n",
       "Chennai      381\n",
       "Name: count, dtype: int64"
      ]
     },
     "execution_count": 15,
     "metadata": {},
     "output_type": "execute_result"
    }
   ],
   "source": [
    "# Source and destination\n",
    "data['Source'].value_counts()"
   ]
  },
  {
   "cell_type": "code",
   "execution_count": 16,
   "id": "6bffa556",
   "metadata": {},
   "outputs": [
    {
     "data": {
      "text/plain": [
       "Destination\n",
       "Cochin       4537\n",
       "Banglore     2871\n",
       "Delhi        1265\n",
       "New Delhi     932\n",
       "Hyderabad     697\n",
       "Kolkata       381\n",
       "Name: count, dtype: int64"
      ]
     },
     "execution_count": 16,
     "metadata": {},
     "output_type": "execute_result"
    }
   ],
   "source": [
    "data['Destination'].value_counts()"
   ]
  },
  {
   "cell_type": "code",
   "execution_count": 17,
   "id": "8eb7b466",
   "metadata": {},
   "outputs": [],
   "source": [
    "data['Destination'] = np.where(data['Destination']=='New Delhi',\n",
    "                              'Delhi',data['Destination'])"
   ]
  },
  {
   "cell_type": "code",
   "execution_count": 18,
   "id": "025092ed",
   "metadata": {},
   "outputs": [
    {
     "data": {
      "text/plain": [
       "Destination\n",
       "Cochin       4537\n",
       "Banglore     2871\n",
       "Delhi        2197\n",
       "Hyderabad     697\n",
       "Kolkata       381\n",
       "Name: count, dtype: int64"
      ]
     },
     "execution_count": 18,
     "metadata": {},
     "output_type": "execute_result"
    }
   ],
   "source": [
    "data['Destination'].value_counts()"
   ]
  },
  {
   "cell_type": "code",
   "execution_count": 19,
   "id": "ebd023cf",
   "metadata": {},
   "outputs": [],
   "source": [
    "# Route"
   ]
  },
  {
   "cell_type": "code",
   "execution_count": 20,
   "id": "77d0a4a3",
   "metadata": {},
   "outputs": [],
   "source": [
    "busy_routes = data['Route'].value_counts().head(7).index"
   ]
  },
  {
   "cell_type": "code",
   "execution_count": 21,
   "id": "cc2323d7",
   "metadata": {},
   "outputs": [],
   "source": [
    "# 1 --> Busy, 0 --> Not Busy\n",
    "data['Route'] = data['Route'].apply(lambda route: 1 if route in busy_routes else 0)"
   ]
  },
  {
   "cell_type": "code",
   "execution_count": 22,
   "id": "af0173bc",
   "metadata": {},
   "outputs": [
    {
     "data": {
      "text/html": [
       "<div>\n",
       "<style scoped>\n",
       "    .dataframe tbody tr th:only-of-type {\n",
       "        vertical-align: middle;\n",
       "    }\n",
       "\n",
       "    .dataframe tbody tr th {\n",
       "        vertical-align: top;\n",
       "    }\n",
       "\n",
       "    .dataframe thead th {\n",
       "        text-align: right;\n",
       "    }\n",
       "</style>\n",
       "<table border=\"1\" class=\"dataframe\">\n",
       "  <thead>\n",
       "    <tr style=\"text-align: right;\">\n",
       "      <th></th>\n",
       "      <th>Airline</th>\n",
       "      <th>Date_of_Journey</th>\n",
       "      <th>Source</th>\n",
       "      <th>Destination</th>\n",
       "      <th>Route</th>\n",
       "      <th>Dep_Time</th>\n",
       "      <th>Arrival_Time</th>\n",
       "      <th>Duration</th>\n",
       "      <th>Total_Stops</th>\n",
       "      <th>Additional_Info</th>\n",
       "      <th>Price</th>\n",
       "      <th>Journey_day</th>\n",
       "      <th>Journey_month</th>\n",
       "      <th>Jouney_wkday</th>\n",
       "    </tr>\n",
       "  </thead>\n",
       "  <tbody>\n",
       "    <tr>\n",
       "      <th>0</th>\n",
       "      <td>IndiGo</td>\n",
       "      <td>2019-03-24</td>\n",
       "      <td>Banglore</td>\n",
       "      <td>Delhi</td>\n",
       "      <td>1</td>\n",
       "      <td>22:20</td>\n",
       "      <td>01:10 22 Mar</td>\n",
       "      <td>2h 50m</td>\n",
       "      <td>non-stop</td>\n",
       "      <td>No info</td>\n",
       "      <td>3897</td>\n",
       "      <td>24</td>\n",
       "      <td>3</td>\n",
       "      <td>6</td>\n",
       "    </tr>\n",
       "    <tr>\n",
       "      <th>1</th>\n",
       "      <td>Air India</td>\n",
       "      <td>2019-05-01</td>\n",
       "      <td>Kolkata</td>\n",
       "      <td>Banglore</td>\n",
       "      <td>0</td>\n",
       "      <td>05:50</td>\n",
       "      <td>13:15</td>\n",
       "      <td>7h 25m</td>\n",
       "      <td>2 stops</td>\n",
       "      <td>No info</td>\n",
       "      <td>7662</td>\n",
       "      <td>1</td>\n",
       "      <td>5</td>\n",
       "      <td>2</td>\n",
       "    </tr>\n",
       "    <tr>\n",
       "      <th>2</th>\n",
       "      <td>Jet Airways</td>\n",
       "      <td>2019-06-09</td>\n",
       "      <td>Delhi</td>\n",
       "      <td>Cochin</td>\n",
       "      <td>0</td>\n",
       "      <td>09:25</td>\n",
       "      <td>04:25 10 Jun</td>\n",
       "      <td>19h</td>\n",
       "      <td>2 stops</td>\n",
       "      <td>No info</td>\n",
       "      <td>13882</td>\n",
       "      <td>9</td>\n",
       "      <td>6</td>\n",
       "      <td>6</td>\n",
       "    </tr>\n",
       "    <tr>\n",
       "      <th>3</th>\n",
       "      <td>IndiGo</td>\n",
       "      <td>2019-05-12</td>\n",
       "      <td>Kolkata</td>\n",
       "      <td>Banglore</td>\n",
       "      <td>0</td>\n",
       "      <td>18:05</td>\n",
       "      <td>23:30</td>\n",
       "      <td>5h 25m</td>\n",
       "      <td>1 stop</td>\n",
       "      <td>No info</td>\n",
       "      <td>6218</td>\n",
       "      <td>12</td>\n",
       "      <td>5</td>\n",
       "      <td>6</td>\n",
       "    </tr>\n",
       "    <tr>\n",
       "      <th>4</th>\n",
       "      <td>IndiGo</td>\n",
       "      <td>2019-03-01</td>\n",
       "      <td>Banglore</td>\n",
       "      <td>Delhi</td>\n",
       "      <td>0</td>\n",
       "      <td>16:50</td>\n",
       "      <td>21:35</td>\n",
       "      <td>4h 45m</td>\n",
       "      <td>1 stop</td>\n",
       "      <td>No info</td>\n",
       "      <td>13302</td>\n",
       "      <td>1</td>\n",
       "      <td>3</td>\n",
       "      <td>4</td>\n",
       "    </tr>\n",
       "  </tbody>\n",
       "</table>\n",
       "</div>"
      ],
      "text/plain": [
       "       Airline Date_of_Journey    Source Destination  Route Dep_Time   \n",
       "0       IndiGo      2019-03-24  Banglore       Delhi      1    22:20  \\\n",
       "1    Air India      2019-05-01   Kolkata    Banglore      0    05:50   \n",
       "2  Jet Airways      2019-06-09     Delhi      Cochin      0    09:25   \n",
       "3       IndiGo      2019-05-12   Kolkata    Banglore      0    18:05   \n",
       "4       IndiGo      2019-03-01  Banglore       Delhi      0    16:50   \n",
       "\n",
       "   Arrival_Time Duration Total_Stops Additional_Info  Price  Journey_day   \n",
       "0  01:10 22 Mar   2h 50m    non-stop         No info   3897           24  \\\n",
       "1         13:15   7h 25m     2 stops         No info   7662            1   \n",
       "2  04:25 10 Jun      19h     2 stops         No info  13882            9   \n",
       "3         23:30   5h 25m      1 stop         No info   6218           12   \n",
       "4         21:35   4h 45m      1 stop         No info  13302            1   \n",
       "\n",
       "   Journey_month  Jouney_wkday  \n",
       "0              3             6  \n",
       "1              5             2  \n",
       "2              6             6  \n",
       "3              5             6  \n",
       "4              3             4  "
      ]
     },
     "execution_count": 22,
     "metadata": {},
     "output_type": "execute_result"
    }
   ],
   "source": [
    "data.head()"
   ]
  },
  {
   "cell_type": "code",
   "execution_count": 23,
   "id": "8f26c96e",
   "metadata": {},
   "outputs": [],
   "source": [
    "# Dep time and arrival time\n",
    "data['Dep_Time'] = pd.to_datetime(data['Dep_Time'],format='%H:%M')"
   ]
  },
  {
   "cell_type": "code",
   "execution_count": 24,
   "id": "50de2bdf",
   "metadata": {},
   "outputs": [],
   "source": [
    "data['Dep_hour'] = data['Dep_Time'].dt.hour"
   ]
  },
  {
   "cell_type": "code",
   "execution_count": 25,
   "id": "8496c126",
   "metadata": {},
   "outputs": [
    {
     "data": {
      "text/html": [
       "<div>\n",
       "<style scoped>\n",
       "    .dataframe tbody tr th:only-of-type {\n",
       "        vertical-align: middle;\n",
       "    }\n",
       "\n",
       "    .dataframe tbody tr th {\n",
       "        vertical-align: top;\n",
       "    }\n",
       "\n",
       "    .dataframe thead th {\n",
       "        text-align: right;\n",
       "    }\n",
       "</style>\n",
       "<table border=\"1\" class=\"dataframe\">\n",
       "  <thead>\n",
       "    <tr style=\"text-align: right;\">\n",
       "      <th></th>\n",
       "      <th>Airline</th>\n",
       "      <th>Date_of_Journey</th>\n",
       "      <th>Source</th>\n",
       "      <th>Destination</th>\n",
       "      <th>Route</th>\n",
       "      <th>Dep_Time</th>\n",
       "      <th>Arrival_Time</th>\n",
       "      <th>Duration</th>\n",
       "      <th>Total_Stops</th>\n",
       "      <th>Additional_Info</th>\n",
       "      <th>Price</th>\n",
       "      <th>Journey_day</th>\n",
       "      <th>Journey_month</th>\n",
       "      <th>Jouney_wkday</th>\n",
       "      <th>Dep_hour</th>\n",
       "    </tr>\n",
       "  </thead>\n",
       "  <tbody>\n",
       "    <tr>\n",
       "      <th>0</th>\n",
       "      <td>IndiGo</td>\n",
       "      <td>2019-03-24</td>\n",
       "      <td>Banglore</td>\n",
       "      <td>Delhi</td>\n",
       "      <td>1</td>\n",
       "      <td>1900-01-01 22:20:00</td>\n",
       "      <td>01:10 22 Mar</td>\n",
       "      <td>2h 50m</td>\n",
       "      <td>non-stop</td>\n",
       "      <td>No info</td>\n",
       "      <td>3897</td>\n",
       "      <td>24</td>\n",
       "      <td>3</td>\n",
       "      <td>6</td>\n",
       "      <td>22</td>\n",
       "    </tr>\n",
       "    <tr>\n",
       "      <th>1</th>\n",
       "      <td>Air India</td>\n",
       "      <td>2019-05-01</td>\n",
       "      <td>Kolkata</td>\n",
       "      <td>Banglore</td>\n",
       "      <td>0</td>\n",
       "      <td>1900-01-01 05:50:00</td>\n",
       "      <td>13:15</td>\n",
       "      <td>7h 25m</td>\n",
       "      <td>2 stops</td>\n",
       "      <td>No info</td>\n",
       "      <td>7662</td>\n",
       "      <td>1</td>\n",
       "      <td>5</td>\n",
       "      <td>2</td>\n",
       "      <td>5</td>\n",
       "    </tr>\n",
       "    <tr>\n",
       "      <th>2</th>\n",
       "      <td>Jet Airways</td>\n",
       "      <td>2019-06-09</td>\n",
       "      <td>Delhi</td>\n",
       "      <td>Cochin</td>\n",
       "      <td>0</td>\n",
       "      <td>1900-01-01 09:25:00</td>\n",
       "      <td>04:25 10 Jun</td>\n",
       "      <td>19h</td>\n",
       "      <td>2 stops</td>\n",
       "      <td>No info</td>\n",
       "      <td>13882</td>\n",
       "      <td>9</td>\n",
       "      <td>6</td>\n",
       "      <td>6</td>\n",
       "      <td>9</td>\n",
       "    </tr>\n",
       "    <tr>\n",
       "      <th>3</th>\n",
       "      <td>IndiGo</td>\n",
       "      <td>2019-05-12</td>\n",
       "      <td>Kolkata</td>\n",
       "      <td>Banglore</td>\n",
       "      <td>0</td>\n",
       "      <td>1900-01-01 18:05:00</td>\n",
       "      <td>23:30</td>\n",
       "      <td>5h 25m</td>\n",
       "      <td>1 stop</td>\n",
       "      <td>No info</td>\n",
       "      <td>6218</td>\n",
       "      <td>12</td>\n",
       "      <td>5</td>\n",
       "      <td>6</td>\n",
       "      <td>18</td>\n",
       "    </tr>\n",
       "    <tr>\n",
       "      <th>4</th>\n",
       "      <td>IndiGo</td>\n",
       "      <td>2019-03-01</td>\n",
       "      <td>Banglore</td>\n",
       "      <td>Delhi</td>\n",
       "      <td>0</td>\n",
       "      <td>1900-01-01 16:50:00</td>\n",
       "      <td>21:35</td>\n",
       "      <td>4h 45m</td>\n",
       "      <td>1 stop</td>\n",
       "      <td>No info</td>\n",
       "      <td>13302</td>\n",
       "      <td>1</td>\n",
       "      <td>3</td>\n",
       "      <td>4</td>\n",
       "      <td>16</td>\n",
       "    </tr>\n",
       "  </tbody>\n",
       "</table>\n",
       "</div>"
      ],
      "text/plain": [
       "       Airline Date_of_Journey    Source Destination  Route   \n",
       "0       IndiGo      2019-03-24  Banglore       Delhi      1  \\\n",
       "1    Air India      2019-05-01   Kolkata    Banglore      0   \n",
       "2  Jet Airways      2019-06-09     Delhi      Cochin      0   \n",
       "3       IndiGo      2019-05-12   Kolkata    Banglore      0   \n",
       "4       IndiGo      2019-03-01  Banglore       Delhi      0   \n",
       "\n",
       "             Dep_Time  Arrival_Time Duration Total_Stops Additional_Info   \n",
       "0 1900-01-01 22:20:00  01:10 22 Mar   2h 50m    non-stop         No info  \\\n",
       "1 1900-01-01 05:50:00         13:15   7h 25m     2 stops         No info   \n",
       "2 1900-01-01 09:25:00  04:25 10 Jun      19h     2 stops         No info   \n",
       "3 1900-01-01 18:05:00         23:30   5h 25m      1 stop         No info   \n",
       "4 1900-01-01 16:50:00         21:35   4h 45m      1 stop         No info   \n",
       "\n",
       "   Price  Journey_day  Journey_month  Jouney_wkday  Dep_hour  \n",
       "0   3897           24              3             6        22  \n",
       "1   7662            1              5             2         5  \n",
       "2  13882            9              6             6         9  \n",
       "3   6218           12              5             6        18  \n",
       "4  13302            1              3             4        16  "
      ]
     },
     "execution_count": 25,
     "metadata": {},
     "output_type": "execute_result"
    }
   ],
   "source": [
    "data.head()"
   ]
  },
  {
   "cell_type": "code",
   "execution_count": 26,
   "id": "bd2670ce",
   "metadata": {},
   "outputs": [],
   "source": [
    "# 12am to 6am : Early morning --0\n",
    "# 6am to 12noon: Morning --1\n",
    "# 12 6 pm: Afternoon-- 2\n",
    "# after 6 pm: evening -- 3\n",
    "def hour(h):\n",
    "    if h>=0 and h<=6:\n",
    "        return 0\n",
    "    elif h>6 and h<=12:\n",
    "        return 1\n",
    "    elif h>12 and h<=18:\n",
    "        return 2\n",
    "    else:\n",
    "        return 3\n",
    "    "
   ]
  },
  {
   "cell_type": "code",
   "execution_count": 27,
   "id": "f6a134a7",
   "metadata": {},
   "outputs": [],
   "source": [
    "data['Dep_hour']= data['Dep_hour'].apply(hour)"
   ]
  },
  {
   "cell_type": "code",
   "execution_count": 28,
   "id": "a3e2df76",
   "metadata": {},
   "outputs": [
    {
     "data": {
      "text/html": [
       "<div>\n",
       "<style scoped>\n",
       "    .dataframe tbody tr th:only-of-type {\n",
       "        vertical-align: middle;\n",
       "    }\n",
       "\n",
       "    .dataframe tbody tr th {\n",
       "        vertical-align: top;\n",
       "    }\n",
       "\n",
       "    .dataframe thead th {\n",
       "        text-align: right;\n",
       "    }\n",
       "</style>\n",
       "<table border=\"1\" class=\"dataframe\">\n",
       "  <thead>\n",
       "    <tr style=\"text-align: right;\">\n",
       "      <th></th>\n",
       "      <th>Airline</th>\n",
       "      <th>Date_of_Journey</th>\n",
       "      <th>Source</th>\n",
       "      <th>Destination</th>\n",
       "      <th>Route</th>\n",
       "      <th>Dep_Time</th>\n",
       "      <th>Arrival_Time</th>\n",
       "      <th>Duration</th>\n",
       "      <th>Total_Stops</th>\n",
       "      <th>Additional_Info</th>\n",
       "      <th>Price</th>\n",
       "      <th>Journey_day</th>\n",
       "      <th>Journey_month</th>\n",
       "      <th>Jouney_wkday</th>\n",
       "      <th>Dep_hour</th>\n",
       "    </tr>\n",
       "  </thead>\n",
       "  <tbody>\n",
       "    <tr>\n",
       "      <th>0</th>\n",
       "      <td>IndiGo</td>\n",
       "      <td>2019-03-24</td>\n",
       "      <td>Banglore</td>\n",
       "      <td>Delhi</td>\n",
       "      <td>1</td>\n",
       "      <td>1900-01-01 22:20:00</td>\n",
       "      <td>01:10 22 Mar</td>\n",
       "      <td>2h 50m</td>\n",
       "      <td>non-stop</td>\n",
       "      <td>No info</td>\n",
       "      <td>3897</td>\n",
       "      <td>24</td>\n",
       "      <td>3</td>\n",
       "      <td>6</td>\n",
       "      <td>3</td>\n",
       "    </tr>\n",
       "    <tr>\n",
       "      <th>1</th>\n",
       "      <td>Air India</td>\n",
       "      <td>2019-05-01</td>\n",
       "      <td>Kolkata</td>\n",
       "      <td>Banglore</td>\n",
       "      <td>0</td>\n",
       "      <td>1900-01-01 05:50:00</td>\n",
       "      <td>13:15</td>\n",
       "      <td>7h 25m</td>\n",
       "      <td>2 stops</td>\n",
       "      <td>No info</td>\n",
       "      <td>7662</td>\n",
       "      <td>1</td>\n",
       "      <td>5</td>\n",
       "      <td>2</td>\n",
       "      <td>0</td>\n",
       "    </tr>\n",
       "    <tr>\n",
       "      <th>2</th>\n",
       "      <td>Jet Airways</td>\n",
       "      <td>2019-06-09</td>\n",
       "      <td>Delhi</td>\n",
       "      <td>Cochin</td>\n",
       "      <td>0</td>\n",
       "      <td>1900-01-01 09:25:00</td>\n",
       "      <td>04:25 10 Jun</td>\n",
       "      <td>19h</td>\n",
       "      <td>2 stops</td>\n",
       "      <td>No info</td>\n",
       "      <td>13882</td>\n",
       "      <td>9</td>\n",
       "      <td>6</td>\n",
       "      <td>6</td>\n",
       "      <td>1</td>\n",
       "    </tr>\n",
       "    <tr>\n",
       "      <th>3</th>\n",
       "      <td>IndiGo</td>\n",
       "      <td>2019-05-12</td>\n",
       "      <td>Kolkata</td>\n",
       "      <td>Banglore</td>\n",
       "      <td>0</td>\n",
       "      <td>1900-01-01 18:05:00</td>\n",
       "      <td>23:30</td>\n",
       "      <td>5h 25m</td>\n",
       "      <td>1 stop</td>\n",
       "      <td>No info</td>\n",
       "      <td>6218</td>\n",
       "      <td>12</td>\n",
       "      <td>5</td>\n",
       "      <td>6</td>\n",
       "      <td>2</td>\n",
       "    </tr>\n",
       "    <tr>\n",
       "      <th>4</th>\n",
       "      <td>IndiGo</td>\n",
       "      <td>2019-03-01</td>\n",
       "      <td>Banglore</td>\n",
       "      <td>Delhi</td>\n",
       "      <td>0</td>\n",
       "      <td>1900-01-01 16:50:00</td>\n",
       "      <td>21:35</td>\n",
       "      <td>4h 45m</td>\n",
       "      <td>1 stop</td>\n",
       "      <td>No info</td>\n",
       "      <td>13302</td>\n",
       "      <td>1</td>\n",
       "      <td>3</td>\n",
       "      <td>4</td>\n",
       "      <td>2</td>\n",
       "    </tr>\n",
       "  </tbody>\n",
       "</table>\n",
       "</div>"
      ],
      "text/plain": [
       "       Airline Date_of_Journey    Source Destination  Route   \n",
       "0       IndiGo      2019-03-24  Banglore       Delhi      1  \\\n",
       "1    Air India      2019-05-01   Kolkata    Banglore      0   \n",
       "2  Jet Airways      2019-06-09     Delhi      Cochin      0   \n",
       "3       IndiGo      2019-05-12   Kolkata    Banglore      0   \n",
       "4       IndiGo      2019-03-01  Banglore       Delhi      0   \n",
       "\n",
       "             Dep_Time  Arrival_Time Duration Total_Stops Additional_Info   \n",
       "0 1900-01-01 22:20:00  01:10 22 Mar   2h 50m    non-stop         No info  \\\n",
       "1 1900-01-01 05:50:00         13:15   7h 25m     2 stops         No info   \n",
       "2 1900-01-01 09:25:00  04:25 10 Jun      19h     2 stops         No info   \n",
       "3 1900-01-01 18:05:00         23:30   5h 25m      1 stop         No info   \n",
       "4 1900-01-01 16:50:00         21:35   4h 45m      1 stop         No info   \n",
       "\n",
       "   Price  Journey_day  Journey_month  Jouney_wkday  Dep_hour  \n",
       "0   3897           24              3             6         3  \n",
       "1   7662            1              5             2         0  \n",
       "2  13882            9              6             6         1  \n",
       "3   6218           12              5             6         2  \n",
       "4  13302            1              3             4         2  "
      ]
     },
     "execution_count": 28,
     "metadata": {},
     "output_type": "execute_result"
    }
   ],
   "source": [
    "data.head()"
   ]
  },
  {
   "cell_type": "code",
   "execution_count": 29,
   "id": "f4ad127f",
   "metadata": {},
   "outputs": [],
   "source": [
    "data['Arrival_Time']=pd.to_datetime(data['Arrival_Time'])"
   ]
  },
  {
   "cell_type": "code",
   "execution_count": 30,
   "id": "fa8350e5",
   "metadata": {},
   "outputs": [],
   "source": [
    "data['Arri_hour']= data['Arrival_Time'].dt.hour"
   ]
  },
  {
   "cell_type": "code",
   "execution_count": 31,
   "id": "05009fb8",
   "metadata": {},
   "outputs": [],
   "source": [
    "data['Arri_hour'] = data['Arri_hour'].apply(hour)"
   ]
  },
  {
   "cell_type": "code",
   "execution_count": 32,
   "id": "c1e6e92f",
   "metadata": {},
   "outputs": [
    {
     "data": {
      "text/html": [
       "<div>\n",
       "<style scoped>\n",
       "    .dataframe tbody tr th:only-of-type {\n",
       "        vertical-align: middle;\n",
       "    }\n",
       "\n",
       "    .dataframe tbody tr th {\n",
       "        vertical-align: top;\n",
       "    }\n",
       "\n",
       "    .dataframe thead th {\n",
       "        text-align: right;\n",
       "    }\n",
       "</style>\n",
       "<table border=\"1\" class=\"dataframe\">\n",
       "  <thead>\n",
       "    <tr style=\"text-align: right;\">\n",
       "      <th></th>\n",
       "      <th>Airline</th>\n",
       "      <th>Date_of_Journey</th>\n",
       "      <th>Source</th>\n",
       "      <th>Destination</th>\n",
       "      <th>Route</th>\n",
       "      <th>Dep_Time</th>\n",
       "      <th>Arrival_Time</th>\n",
       "      <th>Duration</th>\n",
       "      <th>Total_Stops</th>\n",
       "      <th>Additional_Info</th>\n",
       "      <th>Price</th>\n",
       "      <th>Journey_day</th>\n",
       "      <th>Journey_month</th>\n",
       "      <th>Jouney_wkday</th>\n",
       "      <th>Dep_hour</th>\n",
       "      <th>Arri_hour</th>\n",
       "    </tr>\n",
       "  </thead>\n",
       "  <tbody>\n",
       "    <tr>\n",
       "      <th>0</th>\n",
       "      <td>IndiGo</td>\n",
       "      <td>2019-03-24</td>\n",
       "      <td>Banglore</td>\n",
       "      <td>Delhi</td>\n",
       "      <td>1</td>\n",
       "      <td>1900-01-01 22:20:00</td>\n",
       "      <td>2023-03-22 01:10:00</td>\n",
       "      <td>2h 50m</td>\n",
       "      <td>non-stop</td>\n",
       "      <td>No info</td>\n",
       "      <td>3897</td>\n",
       "      <td>24</td>\n",
       "      <td>3</td>\n",
       "      <td>6</td>\n",
       "      <td>3</td>\n",
       "      <td>0</td>\n",
       "    </tr>\n",
       "    <tr>\n",
       "      <th>1</th>\n",
       "      <td>Air India</td>\n",
       "      <td>2019-05-01</td>\n",
       "      <td>Kolkata</td>\n",
       "      <td>Banglore</td>\n",
       "      <td>0</td>\n",
       "      <td>1900-01-01 05:50:00</td>\n",
       "      <td>2023-09-17 13:15:00</td>\n",
       "      <td>7h 25m</td>\n",
       "      <td>2 stops</td>\n",
       "      <td>No info</td>\n",
       "      <td>7662</td>\n",
       "      <td>1</td>\n",
       "      <td>5</td>\n",
       "      <td>2</td>\n",
       "      <td>0</td>\n",
       "      <td>2</td>\n",
       "    </tr>\n",
       "    <tr>\n",
       "      <th>2</th>\n",
       "      <td>Jet Airways</td>\n",
       "      <td>2019-06-09</td>\n",
       "      <td>Delhi</td>\n",
       "      <td>Cochin</td>\n",
       "      <td>0</td>\n",
       "      <td>1900-01-01 09:25:00</td>\n",
       "      <td>2023-06-10 04:25:00</td>\n",
       "      <td>19h</td>\n",
       "      <td>2 stops</td>\n",
       "      <td>No info</td>\n",
       "      <td>13882</td>\n",
       "      <td>9</td>\n",
       "      <td>6</td>\n",
       "      <td>6</td>\n",
       "      <td>1</td>\n",
       "      <td>0</td>\n",
       "    </tr>\n",
       "    <tr>\n",
       "      <th>3</th>\n",
       "      <td>IndiGo</td>\n",
       "      <td>2019-05-12</td>\n",
       "      <td>Kolkata</td>\n",
       "      <td>Banglore</td>\n",
       "      <td>0</td>\n",
       "      <td>1900-01-01 18:05:00</td>\n",
       "      <td>2023-09-17 23:30:00</td>\n",
       "      <td>5h 25m</td>\n",
       "      <td>1 stop</td>\n",
       "      <td>No info</td>\n",
       "      <td>6218</td>\n",
       "      <td>12</td>\n",
       "      <td>5</td>\n",
       "      <td>6</td>\n",
       "      <td>2</td>\n",
       "      <td>3</td>\n",
       "    </tr>\n",
       "    <tr>\n",
       "      <th>4</th>\n",
       "      <td>IndiGo</td>\n",
       "      <td>2019-03-01</td>\n",
       "      <td>Banglore</td>\n",
       "      <td>Delhi</td>\n",
       "      <td>0</td>\n",
       "      <td>1900-01-01 16:50:00</td>\n",
       "      <td>2023-09-17 21:35:00</td>\n",
       "      <td>4h 45m</td>\n",
       "      <td>1 stop</td>\n",
       "      <td>No info</td>\n",
       "      <td>13302</td>\n",
       "      <td>1</td>\n",
       "      <td>3</td>\n",
       "      <td>4</td>\n",
       "      <td>2</td>\n",
       "      <td>3</td>\n",
       "    </tr>\n",
       "  </tbody>\n",
       "</table>\n",
       "</div>"
      ],
      "text/plain": [
       "       Airline Date_of_Journey    Source Destination  Route   \n",
       "0       IndiGo      2019-03-24  Banglore       Delhi      1  \\\n",
       "1    Air India      2019-05-01   Kolkata    Banglore      0   \n",
       "2  Jet Airways      2019-06-09     Delhi      Cochin      0   \n",
       "3       IndiGo      2019-05-12   Kolkata    Banglore      0   \n",
       "4       IndiGo      2019-03-01  Banglore       Delhi      0   \n",
       "\n",
       "             Dep_Time        Arrival_Time Duration Total_Stops   \n",
       "0 1900-01-01 22:20:00 2023-03-22 01:10:00   2h 50m    non-stop  \\\n",
       "1 1900-01-01 05:50:00 2023-09-17 13:15:00   7h 25m     2 stops   \n",
       "2 1900-01-01 09:25:00 2023-06-10 04:25:00      19h     2 stops   \n",
       "3 1900-01-01 18:05:00 2023-09-17 23:30:00   5h 25m      1 stop   \n",
       "4 1900-01-01 16:50:00 2023-09-17 21:35:00   4h 45m      1 stop   \n",
       "\n",
       "  Additional_Info  Price  Journey_day  Journey_month  Jouney_wkday  Dep_hour   \n",
       "0         No info   3897           24              3             6         3  \\\n",
       "1         No info   7662            1              5             2         0   \n",
       "2         No info  13882            9              6             6         1   \n",
       "3         No info   6218           12              5             6         2   \n",
       "4         No info  13302            1              3             4         2   \n",
       "\n",
       "   Arri_hour  \n",
       "0          0  \n",
       "1          2  \n",
       "2          0  \n",
       "3          3  \n",
       "4          3  "
      ]
     },
     "execution_count": 32,
     "metadata": {},
     "output_type": "execute_result"
    }
   ],
   "source": [
    "data.head()"
   ]
  },
  {
   "cell_type": "code",
   "execution_count": 33,
   "id": "5819a21a",
   "metadata": {},
   "outputs": [],
   "source": [
    "# Duration\n",
    "data[['Dur_h','Dur_m']] = data['Duration'].str.split(expand=True)"
   ]
  },
  {
   "cell_type": "code",
   "execution_count": 34,
   "id": "b0841acb",
   "metadata": {},
   "outputs": [
    {
     "data": {
      "text/html": [
       "<div>\n",
       "<style scoped>\n",
       "    .dataframe tbody tr th:only-of-type {\n",
       "        vertical-align: middle;\n",
       "    }\n",
       "\n",
       "    .dataframe tbody tr th {\n",
       "        vertical-align: top;\n",
       "    }\n",
       "\n",
       "    .dataframe thead th {\n",
       "        text-align: right;\n",
       "    }\n",
       "</style>\n",
       "<table border=\"1\" class=\"dataframe\">\n",
       "  <thead>\n",
       "    <tr style=\"text-align: right;\">\n",
       "      <th></th>\n",
       "      <th>Airline</th>\n",
       "      <th>Date_of_Journey</th>\n",
       "      <th>Source</th>\n",
       "      <th>Destination</th>\n",
       "      <th>Route</th>\n",
       "      <th>Dep_Time</th>\n",
       "      <th>Arrival_Time</th>\n",
       "      <th>Duration</th>\n",
       "      <th>Total_Stops</th>\n",
       "      <th>Additional_Info</th>\n",
       "      <th>Price</th>\n",
       "      <th>Journey_day</th>\n",
       "      <th>Journey_month</th>\n",
       "      <th>Jouney_wkday</th>\n",
       "      <th>Dep_hour</th>\n",
       "      <th>Arri_hour</th>\n",
       "      <th>Dur_h</th>\n",
       "      <th>Dur_m</th>\n",
       "    </tr>\n",
       "  </thead>\n",
       "  <tbody>\n",
       "    <tr>\n",
       "      <th>6474</th>\n",
       "      <td>Air India</td>\n",
       "      <td>2019-03-06</td>\n",
       "      <td>Mumbai</td>\n",
       "      <td>Hyderabad</td>\n",
       "      <td>0</td>\n",
       "      <td>1900-01-01 16:50:00</td>\n",
       "      <td>2023-09-17 16:55:00</td>\n",
       "      <td>5m</td>\n",
       "      <td>2 stops</td>\n",
       "      <td>No info</td>\n",
       "      <td>17327</td>\n",
       "      <td>6</td>\n",
       "      <td>3</td>\n",
       "      <td>2</td>\n",
       "      <td>2</td>\n",
       "      <td>2</td>\n",
       "      <td>5m</td>\n",
       "      <td>None</td>\n",
       "    </tr>\n",
       "  </tbody>\n",
       "</table>\n",
       "</div>"
      ],
      "text/plain": [
       "        Airline Date_of_Journey  Source Destination  Route   \n",
       "6474  Air India      2019-03-06  Mumbai   Hyderabad      0  \\\n",
       "\n",
       "                Dep_Time        Arrival_Time Duration Total_Stops   \n",
       "6474 1900-01-01 16:50:00 2023-09-17 16:55:00       5m     2 stops  \\\n",
       "\n",
       "     Additional_Info  Price  Journey_day  Journey_month  Jouney_wkday   \n",
       "6474         No info  17327            6              3             2  \\\n",
       "\n",
       "      Dep_hour  Arri_hour Dur_h Dur_m  \n",
       "6474         2          2    5m  None  "
      ]
     },
     "execution_count": 34,
     "metadata": {},
     "output_type": "execute_result"
    }
   ],
   "source": [
    "data[data['Duration']=='5m']"
   ]
  },
  {
   "cell_type": "code",
   "execution_count": 35,
   "id": "a6485527",
   "metadata": {},
   "outputs": [],
   "source": [
    "data.drop(index=[6474],inplace=True)"
   ]
  },
  {
   "cell_type": "code",
   "execution_count": 36,
   "id": "74acb8da",
   "metadata": {},
   "outputs": [],
   "source": [
    "data['Dur_h'] = data['Dur_h'].str.replace('h','').astype(int)"
   ]
  },
  {
   "cell_type": "code",
   "execution_count": 37,
   "id": "0151d46f",
   "metadata": {},
   "outputs": [],
   "source": [
    "data['Dur_m']=np.where(data['Dur_m'].isnull(),'0m',data['Dur_m'])"
   ]
  },
  {
   "cell_type": "code",
   "execution_count": 38,
   "id": "a3f1b198",
   "metadata": {},
   "outputs": [],
   "source": [
    "data['Dur_m'] = data['Dur_m'].str.replace('m','').astype(int)"
   ]
  },
  {
   "cell_type": "code",
   "execution_count": 39,
   "id": "a7b4e34c",
   "metadata": {},
   "outputs": [],
   "source": [
    "data['Duration'] = (data['Dur_h']*60) + data['Dur_m']"
   ]
  },
  {
   "cell_type": "code",
   "execution_count": 40,
   "id": "cd90b16e",
   "metadata": {},
   "outputs": [
    {
     "data": {
      "text/html": [
       "<div>\n",
       "<style scoped>\n",
       "    .dataframe tbody tr th:only-of-type {\n",
       "        vertical-align: middle;\n",
       "    }\n",
       "\n",
       "    .dataframe tbody tr th {\n",
       "        vertical-align: top;\n",
       "    }\n",
       "\n",
       "    .dataframe thead th {\n",
       "        text-align: right;\n",
       "    }\n",
       "</style>\n",
       "<table border=\"1\" class=\"dataframe\">\n",
       "  <thead>\n",
       "    <tr style=\"text-align: right;\">\n",
       "      <th></th>\n",
       "      <th>Airline</th>\n",
       "      <th>Date_of_Journey</th>\n",
       "      <th>Source</th>\n",
       "      <th>Destination</th>\n",
       "      <th>Route</th>\n",
       "      <th>Dep_Time</th>\n",
       "      <th>Arrival_Time</th>\n",
       "      <th>Duration</th>\n",
       "      <th>Total_Stops</th>\n",
       "      <th>Additional_Info</th>\n",
       "      <th>Price</th>\n",
       "      <th>Journey_day</th>\n",
       "      <th>Journey_month</th>\n",
       "      <th>Jouney_wkday</th>\n",
       "      <th>Dep_hour</th>\n",
       "      <th>Arri_hour</th>\n",
       "      <th>Dur_h</th>\n",
       "      <th>Dur_m</th>\n",
       "    </tr>\n",
       "  </thead>\n",
       "  <tbody>\n",
       "    <tr>\n",
       "      <th>0</th>\n",
       "      <td>IndiGo</td>\n",
       "      <td>2019-03-24</td>\n",
       "      <td>Banglore</td>\n",
       "      <td>Delhi</td>\n",
       "      <td>1</td>\n",
       "      <td>1900-01-01 22:20:00</td>\n",
       "      <td>2023-03-22 01:10:00</td>\n",
       "      <td>170</td>\n",
       "      <td>non-stop</td>\n",
       "      <td>No info</td>\n",
       "      <td>3897</td>\n",
       "      <td>24</td>\n",
       "      <td>3</td>\n",
       "      <td>6</td>\n",
       "      <td>3</td>\n",
       "      <td>0</td>\n",
       "      <td>2</td>\n",
       "      <td>50</td>\n",
       "    </tr>\n",
       "    <tr>\n",
       "      <th>1</th>\n",
       "      <td>Air India</td>\n",
       "      <td>2019-05-01</td>\n",
       "      <td>Kolkata</td>\n",
       "      <td>Banglore</td>\n",
       "      <td>0</td>\n",
       "      <td>1900-01-01 05:50:00</td>\n",
       "      <td>2023-09-17 13:15:00</td>\n",
       "      <td>445</td>\n",
       "      <td>2 stops</td>\n",
       "      <td>No info</td>\n",
       "      <td>7662</td>\n",
       "      <td>1</td>\n",
       "      <td>5</td>\n",
       "      <td>2</td>\n",
       "      <td>0</td>\n",
       "      <td>2</td>\n",
       "      <td>7</td>\n",
       "      <td>25</td>\n",
       "    </tr>\n",
       "    <tr>\n",
       "      <th>2</th>\n",
       "      <td>Jet Airways</td>\n",
       "      <td>2019-06-09</td>\n",
       "      <td>Delhi</td>\n",
       "      <td>Cochin</td>\n",
       "      <td>0</td>\n",
       "      <td>1900-01-01 09:25:00</td>\n",
       "      <td>2023-06-10 04:25:00</td>\n",
       "      <td>1140</td>\n",
       "      <td>2 stops</td>\n",
       "      <td>No info</td>\n",
       "      <td>13882</td>\n",
       "      <td>9</td>\n",
       "      <td>6</td>\n",
       "      <td>6</td>\n",
       "      <td>1</td>\n",
       "      <td>0</td>\n",
       "      <td>19</td>\n",
       "      <td>0</td>\n",
       "    </tr>\n",
       "    <tr>\n",
       "      <th>3</th>\n",
       "      <td>IndiGo</td>\n",
       "      <td>2019-05-12</td>\n",
       "      <td>Kolkata</td>\n",
       "      <td>Banglore</td>\n",
       "      <td>0</td>\n",
       "      <td>1900-01-01 18:05:00</td>\n",
       "      <td>2023-09-17 23:30:00</td>\n",
       "      <td>325</td>\n",
       "      <td>1 stop</td>\n",
       "      <td>No info</td>\n",
       "      <td>6218</td>\n",
       "      <td>12</td>\n",
       "      <td>5</td>\n",
       "      <td>6</td>\n",
       "      <td>2</td>\n",
       "      <td>3</td>\n",
       "      <td>5</td>\n",
       "      <td>25</td>\n",
       "    </tr>\n",
       "    <tr>\n",
       "      <th>4</th>\n",
       "      <td>IndiGo</td>\n",
       "      <td>2019-03-01</td>\n",
       "      <td>Banglore</td>\n",
       "      <td>Delhi</td>\n",
       "      <td>0</td>\n",
       "      <td>1900-01-01 16:50:00</td>\n",
       "      <td>2023-09-17 21:35:00</td>\n",
       "      <td>285</td>\n",
       "      <td>1 stop</td>\n",
       "      <td>No info</td>\n",
       "      <td>13302</td>\n",
       "      <td>1</td>\n",
       "      <td>3</td>\n",
       "      <td>4</td>\n",
       "      <td>2</td>\n",
       "      <td>3</td>\n",
       "      <td>4</td>\n",
       "      <td>45</td>\n",
       "    </tr>\n",
       "  </tbody>\n",
       "</table>\n",
       "</div>"
      ],
      "text/plain": [
       "       Airline Date_of_Journey    Source Destination  Route   \n",
       "0       IndiGo      2019-03-24  Banglore       Delhi      1  \\\n",
       "1    Air India      2019-05-01   Kolkata    Banglore      0   \n",
       "2  Jet Airways      2019-06-09     Delhi      Cochin      0   \n",
       "3       IndiGo      2019-05-12   Kolkata    Banglore      0   \n",
       "4       IndiGo      2019-03-01  Banglore       Delhi      0   \n",
       "\n",
       "             Dep_Time        Arrival_Time  Duration Total_Stops   \n",
       "0 1900-01-01 22:20:00 2023-03-22 01:10:00       170    non-stop  \\\n",
       "1 1900-01-01 05:50:00 2023-09-17 13:15:00       445     2 stops   \n",
       "2 1900-01-01 09:25:00 2023-06-10 04:25:00      1140     2 stops   \n",
       "3 1900-01-01 18:05:00 2023-09-17 23:30:00       325      1 stop   \n",
       "4 1900-01-01 16:50:00 2023-09-17 21:35:00       285      1 stop   \n",
       "\n",
       "  Additional_Info  Price  Journey_day  Journey_month  Jouney_wkday  Dep_hour   \n",
       "0         No info   3897           24              3             6         3  \\\n",
       "1         No info   7662            1              5             2         0   \n",
       "2         No info  13882            9              6             6         1   \n",
       "3         No info   6218           12              5             6         2   \n",
       "4         No info  13302            1              3             4         2   \n",
       "\n",
       "   Arri_hour  Dur_h  Dur_m  \n",
       "0          0      2     50  \n",
       "1          2      7     25  \n",
       "2          0     19      0  \n",
       "3          3      5     25  \n",
       "4          3      4     45  "
      ]
     },
     "execution_count": 40,
     "metadata": {},
     "output_type": "execute_result"
    }
   ],
   "source": [
    "data.head()"
   ]
  },
  {
   "cell_type": "code",
   "execution_count": 41,
   "id": "d15ff888",
   "metadata": {},
   "outputs": [
    {
     "data": {
      "text/plain": [
       "Total_Stops\n",
       "1 stop      5625\n",
       "non-stop    3491\n",
       "2 stops     1519\n",
       "3 stops       45\n",
       "4 stops        1\n",
       "Name: count, dtype: int64"
      ]
     },
     "execution_count": 41,
     "metadata": {},
     "output_type": "execute_result"
    }
   ],
   "source": [
    "# stops\n",
    "data['Total_Stops'].value_counts()"
   ]
  },
  {
   "cell_type": "code",
   "execution_count": 42,
   "id": "2235e5e5",
   "metadata": {},
   "outputs": [],
   "source": [
    "stop_map = {'non-stop':0,\n",
    "           '1 stop':1,\n",
    "           '2 stops':2,\n",
    "           '3 stops':3,\n",
    "           '4 stops':4}\n",
    "data['Total_Stops'] = data['Total_Stops'].map(stop_map)"
   ]
  },
  {
   "cell_type": "code",
   "execution_count": 43,
   "id": "2cd6e724",
   "metadata": {},
   "outputs": [
    {
     "data": {
      "text/html": [
       "<div>\n",
       "<style scoped>\n",
       "    .dataframe tbody tr th:only-of-type {\n",
       "        vertical-align: middle;\n",
       "    }\n",
       "\n",
       "    .dataframe tbody tr th {\n",
       "        vertical-align: top;\n",
       "    }\n",
       "\n",
       "    .dataframe thead th {\n",
       "        text-align: right;\n",
       "    }\n",
       "</style>\n",
       "<table border=\"1\" class=\"dataframe\">\n",
       "  <thead>\n",
       "    <tr style=\"text-align: right;\">\n",
       "      <th></th>\n",
       "      <th>Airline</th>\n",
       "      <th>Date_of_Journey</th>\n",
       "      <th>Source</th>\n",
       "      <th>Destination</th>\n",
       "      <th>Route</th>\n",
       "      <th>Dep_Time</th>\n",
       "      <th>Arrival_Time</th>\n",
       "      <th>Duration</th>\n",
       "      <th>Total_Stops</th>\n",
       "      <th>Additional_Info</th>\n",
       "      <th>Price</th>\n",
       "      <th>Journey_day</th>\n",
       "      <th>Journey_month</th>\n",
       "      <th>Jouney_wkday</th>\n",
       "      <th>Dep_hour</th>\n",
       "      <th>Arri_hour</th>\n",
       "      <th>Dur_h</th>\n",
       "      <th>Dur_m</th>\n",
       "    </tr>\n",
       "  </thead>\n",
       "  <tbody>\n",
       "    <tr>\n",
       "      <th>0</th>\n",
       "      <td>IndiGo</td>\n",
       "      <td>2019-03-24</td>\n",
       "      <td>Banglore</td>\n",
       "      <td>Delhi</td>\n",
       "      <td>1</td>\n",
       "      <td>1900-01-01 22:20:00</td>\n",
       "      <td>2023-03-22 01:10:00</td>\n",
       "      <td>170</td>\n",
       "      <td>0.0</td>\n",
       "      <td>No info</td>\n",
       "      <td>3897</td>\n",
       "      <td>24</td>\n",
       "      <td>3</td>\n",
       "      <td>6</td>\n",
       "      <td>3</td>\n",
       "      <td>0</td>\n",
       "      <td>2</td>\n",
       "      <td>50</td>\n",
       "    </tr>\n",
       "    <tr>\n",
       "      <th>1</th>\n",
       "      <td>Air India</td>\n",
       "      <td>2019-05-01</td>\n",
       "      <td>Kolkata</td>\n",
       "      <td>Banglore</td>\n",
       "      <td>0</td>\n",
       "      <td>1900-01-01 05:50:00</td>\n",
       "      <td>2023-09-17 13:15:00</td>\n",
       "      <td>445</td>\n",
       "      <td>2.0</td>\n",
       "      <td>No info</td>\n",
       "      <td>7662</td>\n",
       "      <td>1</td>\n",
       "      <td>5</td>\n",
       "      <td>2</td>\n",
       "      <td>0</td>\n",
       "      <td>2</td>\n",
       "      <td>7</td>\n",
       "      <td>25</td>\n",
       "    </tr>\n",
       "    <tr>\n",
       "      <th>2</th>\n",
       "      <td>Jet Airways</td>\n",
       "      <td>2019-06-09</td>\n",
       "      <td>Delhi</td>\n",
       "      <td>Cochin</td>\n",
       "      <td>0</td>\n",
       "      <td>1900-01-01 09:25:00</td>\n",
       "      <td>2023-06-10 04:25:00</td>\n",
       "      <td>1140</td>\n",
       "      <td>2.0</td>\n",
       "      <td>No info</td>\n",
       "      <td>13882</td>\n",
       "      <td>9</td>\n",
       "      <td>6</td>\n",
       "      <td>6</td>\n",
       "      <td>1</td>\n",
       "      <td>0</td>\n",
       "      <td>19</td>\n",
       "      <td>0</td>\n",
       "    </tr>\n",
       "    <tr>\n",
       "      <th>3</th>\n",
       "      <td>IndiGo</td>\n",
       "      <td>2019-05-12</td>\n",
       "      <td>Kolkata</td>\n",
       "      <td>Banglore</td>\n",
       "      <td>0</td>\n",
       "      <td>1900-01-01 18:05:00</td>\n",
       "      <td>2023-09-17 23:30:00</td>\n",
       "      <td>325</td>\n",
       "      <td>1.0</td>\n",
       "      <td>No info</td>\n",
       "      <td>6218</td>\n",
       "      <td>12</td>\n",
       "      <td>5</td>\n",
       "      <td>6</td>\n",
       "      <td>2</td>\n",
       "      <td>3</td>\n",
       "      <td>5</td>\n",
       "      <td>25</td>\n",
       "    </tr>\n",
       "    <tr>\n",
       "      <th>4</th>\n",
       "      <td>IndiGo</td>\n",
       "      <td>2019-03-01</td>\n",
       "      <td>Banglore</td>\n",
       "      <td>Delhi</td>\n",
       "      <td>0</td>\n",
       "      <td>1900-01-01 16:50:00</td>\n",
       "      <td>2023-09-17 21:35:00</td>\n",
       "      <td>285</td>\n",
       "      <td>1.0</td>\n",
       "      <td>No info</td>\n",
       "      <td>13302</td>\n",
       "      <td>1</td>\n",
       "      <td>3</td>\n",
       "      <td>4</td>\n",
       "      <td>2</td>\n",
       "      <td>3</td>\n",
       "      <td>4</td>\n",
       "      <td>45</td>\n",
       "    </tr>\n",
       "  </tbody>\n",
       "</table>\n",
       "</div>"
      ],
      "text/plain": [
       "       Airline Date_of_Journey    Source Destination  Route   \n",
       "0       IndiGo      2019-03-24  Banglore       Delhi      1  \\\n",
       "1    Air India      2019-05-01   Kolkata    Banglore      0   \n",
       "2  Jet Airways      2019-06-09     Delhi      Cochin      0   \n",
       "3       IndiGo      2019-05-12   Kolkata    Banglore      0   \n",
       "4       IndiGo      2019-03-01  Banglore       Delhi      0   \n",
       "\n",
       "             Dep_Time        Arrival_Time  Duration  Total_Stops   \n",
       "0 1900-01-01 22:20:00 2023-03-22 01:10:00       170          0.0  \\\n",
       "1 1900-01-01 05:50:00 2023-09-17 13:15:00       445          2.0   \n",
       "2 1900-01-01 09:25:00 2023-06-10 04:25:00      1140          2.0   \n",
       "3 1900-01-01 18:05:00 2023-09-17 23:30:00       325          1.0   \n",
       "4 1900-01-01 16:50:00 2023-09-17 21:35:00       285          1.0   \n",
       "\n",
       "  Additional_Info  Price  Journey_day  Journey_month  Jouney_wkday  Dep_hour   \n",
       "0         No info   3897           24              3             6         3  \\\n",
       "1         No info   7662            1              5             2         0   \n",
       "2         No info  13882            9              6             6         1   \n",
       "3         No info   6218           12              5             6         2   \n",
       "4         No info  13302            1              3             4         2   \n",
       "\n",
       "   Arri_hour  Dur_h  Dur_m  \n",
       "0          0      2     50  \n",
       "1          2      7     25  \n",
       "2          0     19      0  \n",
       "3          3      5     25  \n",
       "4          3      4     45  "
      ]
     },
     "execution_count": 43,
     "metadata": {},
     "output_type": "execute_result"
    }
   ],
   "source": [
    "data.head()"
   ]
  },
  {
   "cell_type": "code",
   "execution_count": 44,
   "id": "029eb371",
   "metadata": {},
   "outputs": [
    {
     "data": {
      "text/plain": [
       "Additional_Info\n",
       "No info                         8344\n",
       "In-flight meal not included     1982\n",
       "No check-in baggage included     320\n",
       "1 Long layover                    19\n",
       "Change airports                    7\n",
       "Business class                     4\n",
       "No Info                            3\n",
       "1 Short layover                    1\n",
       "Red-eye flight                     1\n",
       "2 Long layover                     1\n",
       "Name: count, dtype: int64"
      ]
     },
     "execution_count": 44,
     "metadata": {},
     "output_type": "execute_result"
    }
   ],
   "source": [
    "# Additional Info\n",
    "data['Additional_Info'].value_counts()"
   ]
  },
  {
   "cell_type": "code",
   "execution_count": 45,
   "id": "bc268d37",
   "metadata": {},
   "outputs": [],
   "source": [
    "# Lets make 1 --> Info, 0 --> No info\n",
    "data['Additional_Info'] = data['Additional_Info'].apply(lambda x:0 if x in \\\n",
    "['No info','No Info'] else 1 )"
   ]
  },
  {
   "cell_type": "code",
   "execution_count": 46,
   "id": "394dc21e",
   "metadata": {},
   "outputs": [
    {
     "data": {
      "text/html": [
       "<div>\n",
       "<style scoped>\n",
       "    .dataframe tbody tr th:only-of-type {\n",
       "        vertical-align: middle;\n",
       "    }\n",
       "\n",
       "    .dataframe tbody tr th {\n",
       "        vertical-align: top;\n",
       "    }\n",
       "\n",
       "    .dataframe thead th {\n",
       "        text-align: right;\n",
       "    }\n",
       "</style>\n",
       "<table border=\"1\" class=\"dataframe\">\n",
       "  <thead>\n",
       "    <tr style=\"text-align: right;\">\n",
       "      <th></th>\n",
       "      <th>Airline</th>\n",
       "      <th>Date_of_Journey</th>\n",
       "      <th>Source</th>\n",
       "      <th>Destination</th>\n",
       "      <th>Route</th>\n",
       "      <th>Dep_Time</th>\n",
       "      <th>Arrival_Time</th>\n",
       "      <th>Duration</th>\n",
       "      <th>Total_Stops</th>\n",
       "      <th>Additional_Info</th>\n",
       "      <th>Price</th>\n",
       "      <th>Journey_day</th>\n",
       "      <th>Journey_month</th>\n",
       "      <th>Jouney_wkday</th>\n",
       "      <th>Dep_hour</th>\n",
       "      <th>Arri_hour</th>\n",
       "      <th>Dur_h</th>\n",
       "      <th>Dur_m</th>\n",
       "    </tr>\n",
       "  </thead>\n",
       "  <tbody>\n",
       "    <tr>\n",
       "      <th>0</th>\n",
       "      <td>IndiGo</td>\n",
       "      <td>2019-03-24</td>\n",
       "      <td>Banglore</td>\n",
       "      <td>Delhi</td>\n",
       "      <td>1</td>\n",
       "      <td>1900-01-01 22:20:00</td>\n",
       "      <td>2023-03-22 01:10:00</td>\n",
       "      <td>170</td>\n",
       "      <td>0.0</td>\n",
       "      <td>0</td>\n",
       "      <td>3897</td>\n",
       "      <td>24</td>\n",
       "      <td>3</td>\n",
       "      <td>6</td>\n",
       "      <td>3</td>\n",
       "      <td>0</td>\n",
       "      <td>2</td>\n",
       "      <td>50</td>\n",
       "    </tr>\n",
       "    <tr>\n",
       "      <th>1</th>\n",
       "      <td>Air India</td>\n",
       "      <td>2019-05-01</td>\n",
       "      <td>Kolkata</td>\n",
       "      <td>Banglore</td>\n",
       "      <td>0</td>\n",
       "      <td>1900-01-01 05:50:00</td>\n",
       "      <td>2023-09-17 13:15:00</td>\n",
       "      <td>445</td>\n",
       "      <td>2.0</td>\n",
       "      <td>0</td>\n",
       "      <td>7662</td>\n",
       "      <td>1</td>\n",
       "      <td>5</td>\n",
       "      <td>2</td>\n",
       "      <td>0</td>\n",
       "      <td>2</td>\n",
       "      <td>7</td>\n",
       "      <td>25</td>\n",
       "    </tr>\n",
       "    <tr>\n",
       "      <th>2</th>\n",
       "      <td>Jet Airways</td>\n",
       "      <td>2019-06-09</td>\n",
       "      <td>Delhi</td>\n",
       "      <td>Cochin</td>\n",
       "      <td>0</td>\n",
       "      <td>1900-01-01 09:25:00</td>\n",
       "      <td>2023-06-10 04:25:00</td>\n",
       "      <td>1140</td>\n",
       "      <td>2.0</td>\n",
       "      <td>0</td>\n",
       "      <td>13882</td>\n",
       "      <td>9</td>\n",
       "      <td>6</td>\n",
       "      <td>6</td>\n",
       "      <td>1</td>\n",
       "      <td>0</td>\n",
       "      <td>19</td>\n",
       "      <td>0</td>\n",
       "    </tr>\n",
       "    <tr>\n",
       "      <th>3</th>\n",
       "      <td>IndiGo</td>\n",
       "      <td>2019-05-12</td>\n",
       "      <td>Kolkata</td>\n",
       "      <td>Banglore</td>\n",
       "      <td>0</td>\n",
       "      <td>1900-01-01 18:05:00</td>\n",
       "      <td>2023-09-17 23:30:00</td>\n",
       "      <td>325</td>\n",
       "      <td>1.0</td>\n",
       "      <td>0</td>\n",
       "      <td>6218</td>\n",
       "      <td>12</td>\n",
       "      <td>5</td>\n",
       "      <td>6</td>\n",
       "      <td>2</td>\n",
       "      <td>3</td>\n",
       "      <td>5</td>\n",
       "      <td>25</td>\n",
       "    </tr>\n",
       "    <tr>\n",
       "      <th>4</th>\n",
       "      <td>IndiGo</td>\n",
       "      <td>2019-03-01</td>\n",
       "      <td>Banglore</td>\n",
       "      <td>Delhi</td>\n",
       "      <td>0</td>\n",
       "      <td>1900-01-01 16:50:00</td>\n",
       "      <td>2023-09-17 21:35:00</td>\n",
       "      <td>285</td>\n",
       "      <td>1.0</td>\n",
       "      <td>0</td>\n",
       "      <td>13302</td>\n",
       "      <td>1</td>\n",
       "      <td>3</td>\n",
       "      <td>4</td>\n",
       "      <td>2</td>\n",
       "      <td>3</td>\n",
       "      <td>4</td>\n",
       "      <td>45</td>\n",
       "    </tr>\n",
       "  </tbody>\n",
       "</table>\n",
       "</div>"
      ],
      "text/plain": [
       "       Airline Date_of_Journey    Source Destination  Route   \n",
       "0       IndiGo      2019-03-24  Banglore       Delhi      1  \\\n",
       "1    Air India      2019-05-01   Kolkata    Banglore      0   \n",
       "2  Jet Airways      2019-06-09     Delhi      Cochin      0   \n",
       "3       IndiGo      2019-05-12   Kolkata    Banglore      0   \n",
       "4       IndiGo      2019-03-01  Banglore       Delhi      0   \n",
       "\n",
       "             Dep_Time        Arrival_Time  Duration  Total_Stops   \n",
       "0 1900-01-01 22:20:00 2023-03-22 01:10:00       170          0.0  \\\n",
       "1 1900-01-01 05:50:00 2023-09-17 13:15:00       445          2.0   \n",
       "2 1900-01-01 09:25:00 2023-06-10 04:25:00      1140          2.0   \n",
       "3 1900-01-01 18:05:00 2023-09-17 23:30:00       325          1.0   \n",
       "4 1900-01-01 16:50:00 2023-09-17 21:35:00       285          1.0   \n",
       "\n",
       "   Additional_Info  Price  Journey_day  Journey_month  Jouney_wkday  Dep_hour   \n",
       "0                0   3897           24              3             6         3  \\\n",
       "1                0   7662            1              5             2         0   \n",
       "2                0  13882            9              6             6         1   \n",
       "3                0   6218           12              5             6         2   \n",
       "4                0  13302            1              3             4         2   \n",
       "\n",
       "   Arri_hour  Dur_h  Dur_m  \n",
       "0          0      2     50  \n",
       "1          2      7     25  \n",
       "2          0     19      0  \n",
       "3          3      5     25  \n",
       "4          3      4     45  "
      ]
     },
     "execution_count": 46,
     "metadata": {},
     "output_type": "execute_result"
    }
   ],
   "source": [
    "data.head()"
   ]
  },
  {
   "cell_type": "markdown",
   "id": "0c7366fb",
   "metadata": {},
   "source": [
    "#### We can drop columns which we do not need any more"
   ]
  },
  {
   "cell_type": "code",
   "execution_count": 47,
   "id": "ed78fd08",
   "metadata": {},
   "outputs": [],
   "source": [
    "data.columns\n",
    "del_cols = ['Date_of_Journey','Dep_Time', 'Arrival_Time','Dur_h','Dur_m']"
   ]
  },
  {
   "cell_type": "code",
   "execution_count": 48,
   "id": "3960428c",
   "metadata": {},
   "outputs": [
    {
     "data": {
      "text/html": [
       "<div>\n",
       "<style scoped>\n",
       "    .dataframe tbody tr th:only-of-type {\n",
       "        vertical-align: middle;\n",
       "    }\n",
       "\n",
       "    .dataframe tbody tr th {\n",
       "        vertical-align: top;\n",
       "    }\n",
       "\n",
       "    .dataframe thead th {\n",
       "        text-align: right;\n",
       "    }\n",
       "</style>\n",
       "<table border=\"1\" class=\"dataframe\">\n",
       "  <thead>\n",
       "    <tr style=\"text-align: right;\">\n",
       "      <th></th>\n",
       "      <th>Airline</th>\n",
       "      <th>Date_of_Journey</th>\n",
       "      <th>Source</th>\n",
       "      <th>Destination</th>\n",
       "      <th>Route</th>\n",
       "      <th>Dep_Time</th>\n",
       "      <th>Arrival_Time</th>\n",
       "      <th>Duration</th>\n",
       "      <th>Total_Stops</th>\n",
       "      <th>Additional_Info</th>\n",
       "      <th>Price</th>\n",
       "      <th>Journey_day</th>\n",
       "      <th>Journey_month</th>\n",
       "      <th>Jouney_wkday</th>\n",
       "      <th>Dep_hour</th>\n",
       "      <th>Arri_hour</th>\n",
       "      <th>Dur_h</th>\n",
       "      <th>Dur_m</th>\n",
       "    </tr>\n",
       "  </thead>\n",
       "  <tbody>\n",
       "    <tr>\n",
       "      <th>0</th>\n",
       "      <td>IndiGo</td>\n",
       "      <td>2019-03-24</td>\n",
       "      <td>Banglore</td>\n",
       "      <td>Delhi</td>\n",
       "      <td>1</td>\n",
       "      <td>1900-01-01 22:20:00</td>\n",
       "      <td>2023-03-22 01:10:00</td>\n",
       "      <td>170</td>\n",
       "      <td>0.0</td>\n",
       "      <td>0</td>\n",
       "      <td>3897</td>\n",
       "      <td>24</td>\n",
       "      <td>3</td>\n",
       "      <td>6</td>\n",
       "      <td>3</td>\n",
       "      <td>0</td>\n",
       "      <td>2</td>\n",
       "      <td>50</td>\n",
       "    </tr>\n",
       "    <tr>\n",
       "      <th>1</th>\n",
       "      <td>Air India</td>\n",
       "      <td>2019-05-01</td>\n",
       "      <td>Kolkata</td>\n",
       "      <td>Banglore</td>\n",
       "      <td>0</td>\n",
       "      <td>1900-01-01 05:50:00</td>\n",
       "      <td>2023-09-17 13:15:00</td>\n",
       "      <td>445</td>\n",
       "      <td>2.0</td>\n",
       "      <td>0</td>\n",
       "      <td>7662</td>\n",
       "      <td>1</td>\n",
       "      <td>5</td>\n",
       "      <td>2</td>\n",
       "      <td>0</td>\n",
       "      <td>2</td>\n",
       "      <td>7</td>\n",
       "      <td>25</td>\n",
       "    </tr>\n",
       "    <tr>\n",
       "      <th>2</th>\n",
       "      <td>Jet Airways</td>\n",
       "      <td>2019-06-09</td>\n",
       "      <td>Delhi</td>\n",
       "      <td>Cochin</td>\n",
       "      <td>0</td>\n",
       "      <td>1900-01-01 09:25:00</td>\n",
       "      <td>2023-06-10 04:25:00</td>\n",
       "      <td>1140</td>\n",
       "      <td>2.0</td>\n",
       "      <td>0</td>\n",
       "      <td>13882</td>\n",
       "      <td>9</td>\n",
       "      <td>6</td>\n",
       "      <td>6</td>\n",
       "      <td>1</td>\n",
       "      <td>0</td>\n",
       "      <td>19</td>\n",
       "      <td>0</td>\n",
       "    </tr>\n",
       "    <tr>\n",
       "      <th>3</th>\n",
       "      <td>IndiGo</td>\n",
       "      <td>2019-05-12</td>\n",
       "      <td>Kolkata</td>\n",
       "      <td>Banglore</td>\n",
       "      <td>0</td>\n",
       "      <td>1900-01-01 18:05:00</td>\n",
       "      <td>2023-09-17 23:30:00</td>\n",
       "      <td>325</td>\n",
       "      <td>1.0</td>\n",
       "      <td>0</td>\n",
       "      <td>6218</td>\n",
       "      <td>12</td>\n",
       "      <td>5</td>\n",
       "      <td>6</td>\n",
       "      <td>2</td>\n",
       "      <td>3</td>\n",
       "      <td>5</td>\n",
       "      <td>25</td>\n",
       "    </tr>\n",
       "    <tr>\n",
       "      <th>4</th>\n",
       "      <td>IndiGo</td>\n",
       "      <td>2019-03-01</td>\n",
       "      <td>Banglore</td>\n",
       "      <td>Delhi</td>\n",
       "      <td>0</td>\n",
       "      <td>1900-01-01 16:50:00</td>\n",
       "      <td>2023-09-17 21:35:00</td>\n",
       "      <td>285</td>\n",
       "      <td>1.0</td>\n",
       "      <td>0</td>\n",
       "      <td>13302</td>\n",
       "      <td>1</td>\n",
       "      <td>3</td>\n",
       "      <td>4</td>\n",
       "      <td>2</td>\n",
       "      <td>3</td>\n",
       "      <td>4</td>\n",
       "      <td>45</td>\n",
       "    </tr>\n",
       "  </tbody>\n",
       "</table>\n",
       "</div>"
      ],
      "text/plain": [
       "       Airline Date_of_Journey    Source Destination  Route   \n",
       "0       IndiGo      2019-03-24  Banglore       Delhi      1  \\\n",
       "1    Air India      2019-05-01   Kolkata    Banglore      0   \n",
       "2  Jet Airways      2019-06-09     Delhi      Cochin      0   \n",
       "3       IndiGo      2019-05-12   Kolkata    Banglore      0   \n",
       "4       IndiGo      2019-03-01  Banglore       Delhi      0   \n",
       "\n",
       "             Dep_Time        Arrival_Time  Duration  Total_Stops   \n",
       "0 1900-01-01 22:20:00 2023-03-22 01:10:00       170          0.0  \\\n",
       "1 1900-01-01 05:50:00 2023-09-17 13:15:00       445          2.0   \n",
       "2 1900-01-01 09:25:00 2023-06-10 04:25:00      1140          2.0   \n",
       "3 1900-01-01 18:05:00 2023-09-17 23:30:00       325          1.0   \n",
       "4 1900-01-01 16:50:00 2023-09-17 21:35:00       285          1.0   \n",
       "\n",
       "   Additional_Info  Price  Journey_day  Journey_month  Jouney_wkday  Dep_hour   \n",
       "0                0   3897           24              3             6         3  \\\n",
       "1                0   7662            1              5             2         0   \n",
       "2                0  13882            9              6             6         1   \n",
       "3                0   6218           12              5             6         2   \n",
       "4                0  13302            1              3             4         2   \n",
       "\n",
       "   Arri_hour  Dur_h  Dur_m  \n",
       "0          0      2     50  \n",
       "1          2      7     25  \n",
       "2          0     19      0  \n",
       "3          3      5     25  \n",
       "4          3      4     45  "
      ]
     },
     "execution_count": 48,
     "metadata": {},
     "output_type": "execute_result"
    }
   ],
   "source": [
    "data.head()"
   ]
  },
  {
   "cell_type": "code",
   "execution_count": 49,
   "id": "54898f77",
   "metadata": {},
   "outputs": [],
   "source": [
    "data.drop(columns=del_cols,inplace=True)"
   ]
  },
  {
   "cell_type": "code",
   "execution_count": 50,
   "id": "9a5339a2",
   "metadata": {},
   "outputs": [
    {
     "data": {
      "text/html": [
       "<div>\n",
       "<style scoped>\n",
       "    .dataframe tbody tr th:only-of-type {\n",
       "        vertical-align: middle;\n",
       "    }\n",
       "\n",
       "    .dataframe tbody tr th {\n",
       "        vertical-align: top;\n",
       "    }\n",
       "\n",
       "    .dataframe thead th {\n",
       "        text-align: right;\n",
       "    }\n",
       "</style>\n",
       "<table border=\"1\" class=\"dataframe\">\n",
       "  <thead>\n",
       "    <tr style=\"text-align: right;\">\n",
       "      <th></th>\n",
       "      <th>Airline</th>\n",
       "      <th>Source</th>\n",
       "      <th>Destination</th>\n",
       "      <th>Route</th>\n",
       "      <th>Duration</th>\n",
       "      <th>Total_Stops</th>\n",
       "      <th>Additional_Info</th>\n",
       "      <th>Price</th>\n",
       "      <th>Journey_day</th>\n",
       "      <th>Journey_month</th>\n",
       "      <th>Jouney_wkday</th>\n",
       "      <th>Dep_hour</th>\n",
       "      <th>Arri_hour</th>\n",
       "    </tr>\n",
       "  </thead>\n",
       "  <tbody>\n",
       "    <tr>\n",
       "      <th>0</th>\n",
       "      <td>IndiGo</td>\n",
       "      <td>Banglore</td>\n",
       "      <td>Delhi</td>\n",
       "      <td>1</td>\n",
       "      <td>170</td>\n",
       "      <td>0.0</td>\n",
       "      <td>0</td>\n",
       "      <td>3897</td>\n",
       "      <td>24</td>\n",
       "      <td>3</td>\n",
       "      <td>6</td>\n",
       "      <td>3</td>\n",
       "      <td>0</td>\n",
       "    </tr>\n",
       "    <tr>\n",
       "      <th>1</th>\n",
       "      <td>Air India</td>\n",
       "      <td>Kolkata</td>\n",
       "      <td>Banglore</td>\n",
       "      <td>0</td>\n",
       "      <td>445</td>\n",
       "      <td>2.0</td>\n",
       "      <td>0</td>\n",
       "      <td>7662</td>\n",
       "      <td>1</td>\n",
       "      <td>5</td>\n",
       "      <td>2</td>\n",
       "      <td>0</td>\n",
       "      <td>2</td>\n",
       "    </tr>\n",
       "    <tr>\n",
       "      <th>2</th>\n",
       "      <td>Jet Airways</td>\n",
       "      <td>Delhi</td>\n",
       "      <td>Cochin</td>\n",
       "      <td>0</td>\n",
       "      <td>1140</td>\n",
       "      <td>2.0</td>\n",
       "      <td>0</td>\n",
       "      <td>13882</td>\n",
       "      <td>9</td>\n",
       "      <td>6</td>\n",
       "      <td>6</td>\n",
       "      <td>1</td>\n",
       "      <td>0</td>\n",
       "    </tr>\n",
       "    <tr>\n",
       "      <th>3</th>\n",
       "      <td>IndiGo</td>\n",
       "      <td>Kolkata</td>\n",
       "      <td>Banglore</td>\n",
       "      <td>0</td>\n",
       "      <td>325</td>\n",
       "      <td>1.0</td>\n",
       "      <td>0</td>\n",
       "      <td>6218</td>\n",
       "      <td>12</td>\n",
       "      <td>5</td>\n",
       "      <td>6</td>\n",
       "      <td>2</td>\n",
       "      <td>3</td>\n",
       "    </tr>\n",
       "    <tr>\n",
       "      <th>4</th>\n",
       "      <td>IndiGo</td>\n",
       "      <td>Banglore</td>\n",
       "      <td>Delhi</td>\n",
       "      <td>0</td>\n",
       "      <td>285</td>\n",
       "      <td>1.0</td>\n",
       "      <td>0</td>\n",
       "      <td>13302</td>\n",
       "      <td>1</td>\n",
       "      <td>3</td>\n",
       "      <td>4</td>\n",
       "      <td>2</td>\n",
       "      <td>3</td>\n",
       "    </tr>\n",
       "  </tbody>\n",
       "</table>\n",
       "</div>"
      ],
      "text/plain": [
       "       Airline    Source Destination  Route  Duration  Total_Stops   \n",
       "0       IndiGo  Banglore       Delhi      1       170          0.0  \\\n",
       "1    Air India   Kolkata    Banglore      0       445          2.0   \n",
       "2  Jet Airways     Delhi      Cochin      0      1140          2.0   \n",
       "3       IndiGo   Kolkata    Banglore      0       325          1.0   \n",
       "4       IndiGo  Banglore       Delhi      0       285          1.0   \n",
       "\n",
       "   Additional_Info  Price  Journey_day  Journey_month  Jouney_wkday  Dep_hour   \n",
       "0                0   3897           24              3             6         3  \\\n",
       "1                0   7662            1              5             2         0   \n",
       "2                0  13882            9              6             6         1   \n",
       "3                0   6218           12              5             6         2   \n",
       "4                0  13302            1              3             4         2   \n",
       "\n",
       "   Arri_hour  \n",
       "0          0  \n",
       "1          2  \n",
       "2          0  \n",
       "3          3  \n",
       "4          3  "
      ]
     },
     "execution_count": 50,
     "metadata": {},
     "output_type": "execute_result"
    }
   ],
   "source": [
    "data.head()"
   ]
  },
  {
   "cell_type": "markdown",
   "id": "7731977c",
   "metadata": {},
   "source": [
    "## Univariate Analysis"
   ]
  },
  {
   "cell_type": "code",
   "execution_count": 51,
   "id": "c605c56d",
   "metadata": {},
   "outputs": [
    {
     "data": {
      "text/plain": [
       "Index(['Airline', 'Source', 'Destination', 'Route', 'Duration', 'Total_Stops',\n",
       "       'Additional_Info', 'Price', 'Journey_day', 'Journey_month',\n",
       "       'Jouney_wkday', 'Dep_hour', 'Arri_hour'],\n",
       "      dtype='object')"
      ]
     },
     "execution_count": 51,
     "metadata": {},
     "output_type": "execute_result"
    }
   ],
   "source": [
    "data.columns"
   ]
  },
  {
   "cell_type": "code",
   "execution_count": 52,
   "id": "157b1e1d",
   "metadata": {},
   "outputs": [],
   "source": [
    "cat_cols = ['Airline', 'Source', 'Destination', 'Route','Total_Stops',\n",
    "       'Additional_Info','Journey_month',\n",
    "       'Jouney_wkday', 'Dep_hour', 'Arri_hour']\n",
    "num_cols = ['Duration','Journey_day','Price']"
   ]
  },
  {
   "cell_type": "code",
   "execution_count": 53,
   "id": "b65f5abe",
   "metadata": {},
   "outputs": [],
   "source": [
    "# Lets us see distribution of number columns"
   ]
  },
  {
   "cell_type": "code",
   "execution_count": 54,
   "id": "fe263101",
   "metadata": {},
   "outputs": [
    {
     "data": {
      "image/png": "[encoded data removed]",
      "text/plain": [
       "<Figure size 576x504 with 3 Axes>"
      ]
     },
     "metadata": {
      "needs_background": "light"
     },
     "output_type": "display_data"
    }
   ],
   "source": [
    "plt.figure(figsize=(8,7))\n",
    "t = 1\n",
    "for i in num_cols:\n",
    "    plt.subplot(2,2,t)\n",
    "    sns.distplot(data[i])\n",
    "    plt.title(f'{i} skewness:{round(data[i].skew(),2)}')\n",
    "    t+=1\n",
    "plt.tight_layout()\n",
    "plt.show()"
   ]
  },
  {
   "cell_type": "raw",
   "id": "6ba03158",
   "metadata": {},
   "source": [
    "* Price (Target variable is highly right skewed)\n",
    "* Duration also has some skewness on right"
   ]
  },
  {
   "cell_type": "code",
   "execution_count": 55,
   "id": "62d53398",
   "metadata": {},
   "outputs": [
    {
     "data": {
      "image/png": "[encoded data removed]",
      "text/plain": [
       "<Figure size 720x2160 with 10 Axes>"
      ]
     },
     "metadata": {
      "needs_background": "light"
     },
     "output_type": "display_data"
    }
   ],
   "source": [
    "plt.figure(figsize=(10,30))\n",
    "t = 1\n",
    "for i in cat_cols:\n",
    "    plt.subplot(6,2,t)\n",
    "    sns.countplot(data = data, x=i)\n",
    "    plt.xticks(rotation=80)\n",
    "    t+=1\n",
    "plt.tight_layout()\n",
    "plt.show()"
   ]
  },
  {
   "cell_type": "markdown",
   "id": "a198e56d",
   "metadata": {},
   "source": [
    "## Bivariate Analysis"
   ]
  },
  {
   "cell_type": "code",
   "execution_count": 56,
   "id": "ec924baa",
   "metadata": {},
   "outputs": [
    {
     "data": {
      "image/png": "[encoded data removed]",
      "text/plain": [
       "<Figure size 504x216 with 2 Axes>"
      ]
     },
     "metadata": {
      "needs_background": "light"
     },
     "output_type": "display_data"
    }
   ],
   "source": [
    "plt.figure(figsize=(7,3))\n",
    "t = 1\n",
    "for i in num_cols:\n",
    "    if i != 'Price':\n",
    "        plt.subplot(1,2,t)\n",
    "        sns.scatterplot(x=data[i],y=data['Price'])\n",
    "        t+=1\n",
    "plt.tight_layout()\n",
    "plt.show()"
   ]
  },
  {
   "cell_type": "code",
   "execution_count": 59,
   "id": "33a3de50",
   "metadata": {},
   "outputs": [
    {
     "data": {
      "text/plain": [
       "<Axes: >"
      ]
     },
     "execution_count": 59,
     "metadata": {},
     "output_type": "execute_result"
    },
    {
     "data": {
      "image/png": "[encoded data removed]",
      "text/plain": [
       "<Figure size 720x504 with 2 Axes>"
      ]
     },
     "metadata": {
      "needs_background": "light"
     },
     "output_type": "display_data"
    }
   ],
   "source": [
    "plt.figure(figsize=(10,7))\n",
    "sns.heatmap(data.corr(numeric_only=True),vmax=1,vmin=-1,annot=True)"
   ]
  },
  {
   "cell_type": "code",
   "execution_count": 60,
   "id": "7cb6109b",
   "metadata": {},
   "outputs": [
    {
     "data": {
      "image/png": "[encoded data removed]",
      "text/plain": [
       "<Figure size 720x2160 with 10 Axes>"
      ]
     },
     "metadata": {
      "needs_background": "light"
     },
     "output_type": "display_data"
    }
   ],
   "source": [
    "plt.figure(figsize=(10,30))\n",
    "t = 1\n",
    "for i in cat_cols:\n",
    "    plt.subplot(6,2,t)\n",
    "    sns.boxplot(x=data[i],y=data['Price'])\n",
    "    plt.xticks(rotation=80)\n",
    "    t+=1\n",
    "plt.tight_layout()\n",
    "plt.show()"
   ]
  },
  {
   "cell_type": "code",
   "execution_count": 61,
   "id": "eab570e3",
   "metadata": {},
   "outputs": [
    {
     "data": {
      "image/png": "[encoded data removed]",
      "text/plain": [
       "<Figure size 720x2160 with 10 Axes>"
      ]
     },
     "metadata": {
      "needs_background": "light"
     },
     "output_type": "display_data"
    }
   ],
   "source": [
    "plt.figure(figsize=(10,30))\n",
    "t = 1\n",
    "for i in cat_cols:\n",
    "    plt.subplot(6,2,t)\n",
    "    data.groupby(by=i)[\"Price\"].mean().plot(kind='bar')\n",
    "    plt.xticks(rotation=80)\n",
    "    t+=1\n",
    "plt.tight_layout()\n",
    "plt.show()"
   ]
  },
  {
   "cell_type": "markdown",
   "id": "e7c1a092",
   "metadata": {},
   "source": [
    "## Missing Value treatment"
   ]
  },
  {
   "cell_type": "code",
   "execution_count": 62,
   "id": "bb8a0e3d",
   "metadata": {},
   "outputs": [
    {
     "data": {
      "text/plain": [
       "Airline            0\n",
       "Source             0\n",
       "Destination        0\n",
       "Route              0\n",
       "Duration           0\n",
       "Total_Stops        1\n",
       "Additional_Info    0\n",
       "Price              0\n",
       "Journey_day        0\n",
       "Journey_month      0\n",
       "Jouney_wkday       0\n",
       "Dep_hour           0\n",
       "Arri_hour          0\n",
       "dtype: int64"
      ]
     },
     "execution_count": 62,
     "metadata": {},
     "output_type": "execute_result"
    }
   ],
   "source": [
    "data.isnull().sum()"
   ]
  },
  {
   "cell_type": "code",
   "execution_count": 63,
   "id": "2b32924f",
   "metadata": {},
   "outputs": [
    {
     "data": {
      "text/html": [
       "<div>\n",
       "<style scoped>\n",
       "    .dataframe tbody tr th:only-of-type {\n",
       "        vertical-align: middle;\n",
       "    }\n",
       "\n",
       "    .dataframe tbody tr th {\n",
       "        vertical-align: top;\n",
       "    }\n",
       "\n",
       "    .dataframe thead th {\n",
       "        text-align: right;\n",
       "    }\n",
       "</style>\n",
       "<table border=\"1\" class=\"dataframe\">\n",
       "  <thead>\n",
       "    <tr style=\"text-align: right;\">\n",
       "      <th></th>\n",
       "      <th>Airline</th>\n",
       "      <th>Source</th>\n",
       "      <th>Destination</th>\n",
       "      <th>Route</th>\n",
       "      <th>Duration</th>\n",
       "      <th>Total_Stops</th>\n",
       "      <th>Additional_Info</th>\n",
       "      <th>Price</th>\n",
       "      <th>Journey_day</th>\n",
       "      <th>Journey_month</th>\n",
       "      <th>Jouney_wkday</th>\n",
       "      <th>Dep_hour</th>\n",
       "      <th>Arri_hour</th>\n",
       "    </tr>\n",
       "  </thead>\n",
       "  <tbody>\n",
       "    <tr>\n",
       "      <th>9039</th>\n",
       "      <td>Air India</td>\n",
       "      <td>Delhi</td>\n",
       "      <td>Cochin</td>\n",
       "      <td>0</td>\n",
       "      <td>1420</td>\n",
       "      <td>NaN</td>\n",
       "      <td>0</td>\n",
       "      <td>7480</td>\n",
       "      <td>6</td>\n",
       "      <td>5</td>\n",
       "      <td>0</td>\n",
       "      <td>1</td>\n",
       "      <td>1</td>\n",
       "    </tr>\n",
       "  </tbody>\n",
       "</table>\n",
       "</div>"
      ],
      "text/plain": [
       "        Airline Source Destination  Route  Duration  Total_Stops   \n",
       "9039  Air India  Delhi      Cochin      0      1420          NaN  \\\n",
       "\n",
       "      Additional_Info  Price  Journey_day  Journey_month  Jouney_wkday   \n",
       "9039                0   7480            6              5             0  \\\n",
       "\n",
       "      Dep_hour  Arri_hour  \n",
       "9039         1          1  "
      ]
     },
     "execution_count": 63,
     "metadata": {},
     "output_type": "execute_result"
    }
   ],
   "source": [
    "data[data['Total_Stops'].isnull()]"
   ]
  },
  {
   "cell_type": "code",
   "execution_count": 64,
   "id": "547d9043",
   "metadata": {},
   "outputs": [],
   "source": [
    "data.drop(index=[9039],inplace=True)"
   ]
  },
  {
   "cell_type": "markdown",
   "id": "d08d211c",
   "metadata": {},
   "source": [
    "### Outlier Treatment"
   ]
  },
  {
   "cell_type": "code",
   "execution_count": 65,
   "id": "f8cbdea0",
   "metadata": {},
   "outputs": [
    {
     "data": {
      "image/png": "[encoded data removed]",
      "text/plain": [
       "<Figure size 576x504 with 3 Axes>"
      ]
     },
     "metadata": {
      "needs_background": "light"
     },
     "output_type": "display_data"
    }
   ],
   "source": [
    "plt.figure(figsize=(8,7))\n",
    "t = 1\n",
    "for i in num_cols:\n",
    "    plt.subplot(2,2,t)\n",
    "    sns.boxplot(data[i],orient='h')\n",
    "    plt.title(f'{i} skewness:{round(data[i].skew(),2)}')\n",
    "    t+=1\n",
    "plt.tight_layout()\n",
    "plt.show()"
   ]
  },
  {
   "cell_type": "raw",
   "id": "fb9afa96",
   "metadata": {},
   "source": [
    "q3,q1 = data['Price'].quantile([0.75,0.25])\n",
    "iqr = q3-q1\n",
    "ul = q3 + 1.5*(iqr)\n",
    "data_out = data.loc[~(data['Price']>ul),:]"
   ]
  },
  {
   "cell_type": "raw",
   "id": "12fad23a",
   "metadata": {},
   "source": [
    "plt.figure(figsize=(8,7))\n",
    "t = 1\n",
    "for i in num_cols:\n",
    "    plt.subplot(2,2,t)\n",
    "    sns.boxplot(data_out[i],orient='h')\n",
    "    plt.title(f'{i} skewness:{round(data_out[i].skew(),2)}')\n",
    "    t+=1\n",
    "plt.tight_layout()\n",
    "plt.show()"
   ]
  },
  {
   "cell_type": "code",
   "execution_count": 66,
   "id": "aaf9a582",
   "metadata": {},
   "outputs": [
    {
     "data": {
      "text/plain": [
       "47853.0"
      ]
     },
     "execution_count": 66,
     "metadata": {},
     "output_type": "execute_result"
    }
   ],
   "source": [
    "# Capping\n",
    "q3,q1 = data['Price'].quantile([0.75,0.25])\n",
    "iqr = q3-q1\n",
    "ul = q3 + 5*(iqr)\n",
    "ul"
   ]
  },
  {
   "cell_type": "code",
   "execution_count": 67,
   "id": "1c13093e",
   "metadata": {},
   "outputs": [],
   "source": [
    "data['Price'][data['Price']>ul]=ul"
   ]
  },
  {
   "cell_type": "code",
   "execution_count": 68,
   "id": "d4e82f5c",
   "metadata": {},
   "outputs": [
    {
     "data": {
      "image/png": "[encoded data removed]",
      "text/plain": [
       "<Figure size 576x504 with 3 Axes>"
      ]
     },
     "metadata": {
      "needs_background": "light"
     },
     "output_type": "display_data"
    }
   ],
   "source": [
    "plt.figure(figsize=(8,7))\n",
    "t = 1\n",
    "for i in num_cols:\n",
    "    plt.subplot(2,2,t)\n",
    "    sns.boxplot(data[i],orient='h')\n",
    "    plt.title(f'{i} skewness:{round(data[i].skew(),2)}')\n",
    "    t+=1\n",
    "plt.tight_layout()\n",
    "plt.show()"
   ]
  },
  {
   "cell_type": "markdown",
   "id": "7e44d1dd",
   "metadata": {},
   "source": [
    "### Encoding"
   ]
  },
  {
   "cell_type": "code",
   "execution_count": 69,
   "id": "30e321c5",
   "metadata": {},
   "outputs": [
    {
     "data": {
      "text/html": [
       "<div>\n",
       "<style scoped>\n",
       "    .dataframe tbody tr th:only-of-type {\n",
       "        vertical-align: middle;\n",
       "    }\n",
       "\n",
       "    .dataframe tbody tr th {\n",
       "        vertical-align: top;\n",
       "    }\n",
       "\n",
       "    .dataframe thead th {\n",
       "        text-align: right;\n",
       "    }\n",
       "</style>\n",
       "<table border=\"1\" class=\"dataframe\">\n",
       "  <thead>\n",
       "    <tr style=\"text-align: right;\">\n",
       "      <th></th>\n",
       "      <th>Airline</th>\n",
       "      <th>Source</th>\n",
       "      <th>Destination</th>\n",
       "      <th>Route</th>\n",
       "      <th>Duration</th>\n",
       "      <th>Total_Stops</th>\n",
       "      <th>Additional_Info</th>\n",
       "      <th>Price</th>\n",
       "      <th>Journey_day</th>\n",
       "      <th>Journey_month</th>\n",
       "      <th>Jouney_wkday</th>\n",
       "      <th>Dep_hour</th>\n",
       "      <th>Arri_hour</th>\n",
       "    </tr>\n",
       "  </thead>\n",
       "  <tbody>\n",
       "    <tr>\n",
       "      <th>0</th>\n",
       "      <td>IndiGo</td>\n",
       "      <td>Banglore</td>\n",
       "      <td>Delhi</td>\n",
       "      <td>1</td>\n",
       "      <td>170</td>\n",
       "      <td>0.0</td>\n",
       "      <td>0</td>\n",
       "      <td>3897</td>\n",
       "      <td>24</td>\n",
       "      <td>3</td>\n",
       "      <td>6</td>\n",
       "      <td>3</td>\n",
       "      <td>0</td>\n",
       "    </tr>\n",
       "    <tr>\n",
       "      <th>1</th>\n",
       "      <td>Air India</td>\n",
       "      <td>Kolkata</td>\n",
       "      <td>Banglore</td>\n",
       "      <td>0</td>\n",
       "      <td>445</td>\n",
       "      <td>2.0</td>\n",
       "      <td>0</td>\n",
       "      <td>7662</td>\n",
       "      <td>1</td>\n",
       "      <td>5</td>\n",
       "      <td>2</td>\n",
       "      <td>0</td>\n",
       "      <td>2</td>\n",
       "    </tr>\n",
       "    <tr>\n",
       "      <th>2</th>\n",
       "      <td>Jet Airways</td>\n",
       "      <td>Delhi</td>\n",
       "      <td>Cochin</td>\n",
       "      <td>0</td>\n",
       "      <td>1140</td>\n",
       "      <td>2.0</td>\n",
       "      <td>0</td>\n",
       "      <td>13882</td>\n",
       "      <td>9</td>\n",
       "      <td>6</td>\n",
       "      <td>6</td>\n",
       "      <td>1</td>\n",
       "      <td>0</td>\n",
       "    </tr>\n",
       "    <tr>\n",
       "      <th>3</th>\n",
       "      <td>IndiGo</td>\n",
       "      <td>Kolkata</td>\n",
       "      <td>Banglore</td>\n",
       "      <td>0</td>\n",
       "      <td>325</td>\n",
       "      <td>1.0</td>\n",
       "      <td>0</td>\n",
       "      <td>6218</td>\n",
       "      <td>12</td>\n",
       "      <td>5</td>\n",
       "      <td>6</td>\n",
       "      <td>2</td>\n",
       "      <td>3</td>\n",
       "    </tr>\n",
       "    <tr>\n",
       "      <th>4</th>\n",
       "      <td>IndiGo</td>\n",
       "      <td>Banglore</td>\n",
       "      <td>Delhi</td>\n",
       "      <td>0</td>\n",
       "      <td>285</td>\n",
       "      <td>1.0</td>\n",
       "      <td>0</td>\n",
       "      <td>13302</td>\n",
       "      <td>1</td>\n",
       "      <td>3</td>\n",
       "      <td>4</td>\n",
       "      <td>2</td>\n",
       "      <td>3</td>\n",
       "    </tr>\n",
       "  </tbody>\n",
       "</table>\n",
       "</div>"
      ],
      "text/plain": [
       "       Airline    Source Destination  Route  Duration  Total_Stops   \n",
       "0       IndiGo  Banglore       Delhi      1       170          0.0  \\\n",
       "1    Air India   Kolkata    Banglore      0       445          2.0   \n",
       "2  Jet Airways     Delhi      Cochin      0      1140          2.0   \n",
       "3       IndiGo   Kolkata    Banglore      0       325          1.0   \n",
       "4       IndiGo  Banglore       Delhi      0       285          1.0   \n",
       "\n",
       "   Additional_Info  Price  Journey_day  Journey_month  Jouney_wkday  Dep_hour   \n",
       "0                0   3897           24              3             6         3  \\\n",
       "1                0   7662            1              5             2         0   \n",
       "2                0  13882            9              6             6         1   \n",
       "3                0   6218           12              5             6         2   \n",
       "4                0  13302            1              3             4         2   \n",
       "\n",
       "   Arri_hour  \n",
       "0          0  \n",
       "1          2  \n",
       "2          0  \n",
       "3          3  \n",
       "4          3  "
      ]
     },
     "execution_count": 69,
     "metadata": {},
     "output_type": "execute_result"
    }
   ],
   "source": [
    "data.head()"
   ]
  },
  {
   "cell_type": "code",
   "execution_count": 70,
   "id": "19b2da97",
   "metadata": {},
   "outputs": [
    {
     "data": {
      "text/plain": [
       "Source\n",
       "Banglore     7980.648612\n",
       "Chennai      4789.892388\n",
       "Delhi       10539.136464\n",
       "Kolkata      9158.389411\n",
       "Mumbai       5042.083333\n",
       "Name: Price, dtype: float64"
      ]
     },
     "execution_count": 70,
     "metadata": {},
     "output_type": "execute_result"
    }
   ],
   "source": [
    "data.groupby(by='Source')['Price'].mean()"
   ]
  },
  {
   "cell_type": "code",
   "execution_count": 71,
   "id": "3cc2ff1d",
   "metadata": {},
   "outputs": [
    {
     "data": {
      "text/plain": [
       "Destination\n",
       "Banglore      9158.389411\n",
       "Cochin       10539.136464\n",
       "Delhi         7980.648612\n",
       "Hyderabad     5042.083333\n",
       "Kolkata       4789.892388\n",
       "Name: Price, dtype: float64"
      ]
     },
     "execution_count": 71,
     "metadata": {},
     "output_type": "execute_result"
    }
   ],
   "source": [
    "data.groupby(by='Destination')['Price'].mean()"
   ]
  },
  {
   "cell_type": "markdown",
   "id": "bfeb15f2",
   "metadata": {},
   "source": [
    "### Train test split"
   ]
  },
  {
   "cell_type": "code",
   "execution_count": 72,
   "id": "6450c5fc",
   "metadata": {},
   "outputs": [],
   "source": [
    "x = data.drop(columns=['Price','Destination'])\n",
    "y = data['Price']"
   ]
  },
  {
   "cell_type": "code",
   "execution_count": 73,
   "id": "10c1a486",
   "metadata": {},
   "outputs": [],
   "source": [
    "x_train, x_test, y_train, y_test = train_test_split(x,y,train_size=0.8,random_state=3)"
   ]
  },
  {
   "cell_type": "code",
   "execution_count": 74,
   "id": "c642566e",
   "metadata": {},
   "outputs": [
    {
     "name": "stdout",
     "output_type": "stream",
     "text": [
      "(8544, 11) (8544,) (2137, 11) (2137,)\n"
     ]
    }
   ],
   "source": [
    "print(x_train.shape,y_train.shape,x_test.shape,y_test.shape)"
   ]
  },
  {
   "cell_type": "markdown",
   "id": "59fa3369",
   "metadata": {},
   "source": [
    "### Catboost encoding"
   ]
  },
  {
   "cell_type": "raw",
   "id": "bd26407d",
   "metadata": {},
   "source": [
    "Since target encoding has an issue of dataleakage and it also reads the distribution of the target we are preffering catboost encoding"
   ]
  },
  {
   "cell_type": "code",
   "execution_count": 75,
   "id": "310955ad",
   "metadata": {},
   "outputs": [],
   "source": [
    "for i in ['Airline','Source']:\n",
    "    cat_e = ce.CatBoostEncoder()\n",
    "    cat_e.fit(x_train[i],y_train)\n",
    "    x_train[i] = cat_e.transform(x_train[i])\n",
    "    x_test[i] = cat_e.transform(x_test[i])"
   ]
  },
  {
   "cell_type": "code",
   "execution_count": 76,
   "id": "119d7c28",
   "metadata": {},
   "outputs": [
    {
     "data": {
      "text/plain": [
       "Airline\n",
       "11710.936458    3063\n",
       "5655.252017     1639\n",
       "9582.715814     1416\n",
       "10820.668726     958\n",
       "4334.530902      640\n",
       "7793.141027      377\n",
       "5548.839504      265\n",
       "5871.120166      168\n",
       "11042.664368      10\n",
       "41164.218009       5\n",
       "10000.436017       2\n",
       "9083.308052        1\n",
       "Name: count, dtype: int64"
      ]
     },
     "execution_count": 76,
     "metadata": {},
     "output_type": "execute_result"
    }
   ],
   "source": [
    "x_train['Airline'].value_counts()"
   ]
  },
  {
   "cell_type": "code",
   "execution_count": 77,
   "id": "382ea45b",
   "metadata": {},
   "outputs": [
    {
     "data": {
      "text/plain": [
       "Airline\n",
       "11710.936458    786\n",
       "5655.252017     414\n",
       "9582.715814     334\n",
       "10820.668726    238\n",
       "4334.530902     178\n",
       "7793.141027     102\n",
       "5548.839504      54\n",
       "5871.120166      26\n",
       "11042.664368      3\n",
       "41164.218009      1\n",
       "10000.436017      1\n",
       "Name: count, dtype: int64"
      ]
     },
     "execution_count": 77,
     "metadata": {},
     "output_type": "execute_result"
    }
   ],
   "source": [
    "x_test['Airline'].value_counts()"
   ]
  },
  {
   "cell_type": "code",
   "execution_count": 78,
   "id": "a75da63d",
   "metadata": {},
   "outputs": [
    {
     "data": {
      "text/html": [
       "<div>\n",
       "<style scoped>\n",
       "    .dataframe tbody tr th:only-of-type {\n",
       "        vertical-align: middle;\n",
       "    }\n",
       "\n",
       "    .dataframe tbody tr th {\n",
       "        vertical-align: top;\n",
       "    }\n",
       "\n",
       "    .dataframe thead th {\n",
       "        text-align: right;\n",
       "    }\n",
       "</style>\n",
       "<table border=\"1\" class=\"dataframe\">\n",
       "  <thead>\n",
       "    <tr style=\"text-align: right;\">\n",
       "      <th></th>\n",
       "      <th>Airline</th>\n",
       "      <th>Source</th>\n",
       "      <th>Route</th>\n",
       "      <th>Duration</th>\n",
       "      <th>Total_Stops</th>\n",
       "      <th>Additional_Info</th>\n",
       "      <th>Journey_day</th>\n",
       "      <th>Journey_month</th>\n",
       "      <th>Jouney_wkday</th>\n",
       "      <th>Dep_hour</th>\n",
       "      <th>Arri_hour</th>\n",
       "    </tr>\n",
       "  </thead>\n",
       "  <tbody>\n",
       "    <tr>\n",
       "      <th>8843</th>\n",
       "      <td>5655.252017</td>\n",
       "      <td>5167.516044</td>\n",
       "      <td>1</td>\n",
       "      <td>90</td>\n",
       "      <td>0.0</td>\n",
       "      <td>0</td>\n",
       "      <td>15</td>\n",
       "      <td>5</td>\n",
       "      <td>2</td>\n",
       "      <td>0</td>\n",
       "      <td>0</td>\n",
       "    </tr>\n",
       "    <tr>\n",
       "      <th>136</th>\n",
       "      <td>11710.936458</td>\n",
       "      <td>10508.208797</td>\n",
       "      <td>0</td>\n",
       "      <td>1300</td>\n",
       "      <td>2.0</td>\n",
       "      <td>0</td>\n",
       "      <td>6</td>\n",
       "      <td>6</td>\n",
       "      <td>3</td>\n",
       "      <td>0</td>\n",
       "      <td>0</td>\n",
       "    </tr>\n",
       "    <tr>\n",
       "      <th>6244</th>\n",
       "      <td>11710.936458</td>\n",
       "      <td>10508.208797</td>\n",
       "      <td>1</td>\n",
       "      <td>610</td>\n",
       "      <td>1.0</td>\n",
       "      <td>1</td>\n",
       "      <td>18</td>\n",
       "      <td>5</td>\n",
       "      <td>5</td>\n",
       "      <td>2</td>\n",
       "      <td>0</td>\n",
       "    </tr>\n",
       "    <tr>\n",
       "      <th>402</th>\n",
       "      <td>9582.715814</td>\n",
       "      <td>10508.208797</td>\n",
       "      <td>0</td>\n",
       "      <td>1585</td>\n",
       "      <td>3.0</td>\n",
       "      <td>0</td>\n",
       "      <td>15</td>\n",
       "      <td>6</td>\n",
       "      <td>5</td>\n",
       "      <td>0</td>\n",
       "      <td>1</td>\n",
       "    </tr>\n",
       "    <tr>\n",
       "      <th>7119</th>\n",
       "      <td>11710.936458</td>\n",
       "      <td>10508.208797</td>\n",
       "      <td>0</td>\n",
       "      <td>810</td>\n",
       "      <td>2.0</td>\n",
       "      <td>0</td>\n",
       "      <td>6</td>\n",
       "      <td>6</td>\n",
       "      <td>3</td>\n",
       "      <td>0</td>\n",
       "      <td>3</td>\n",
       "    </tr>\n",
       "    <tr>\n",
       "      <th>7589</th>\n",
       "      <td>11710.936458</td>\n",
       "      <td>10508.208797</td>\n",
       "      <td>0</td>\n",
       "      <td>1615</td>\n",
       "      <td>2.0</td>\n",
       "      <td>1</td>\n",
       "      <td>24</td>\n",
       "      <td>6</td>\n",
       "      <td>0</td>\n",
       "      <td>1</td>\n",
       "      <td>1</td>\n",
       "    </tr>\n",
       "    <tr>\n",
       "      <th>4855</th>\n",
       "      <td>5655.252017</td>\n",
       "      <td>8018.702847</td>\n",
       "      <td>1</td>\n",
       "      <td>170</td>\n",
       "      <td>0.0</td>\n",
       "      <td>0</td>\n",
       "      <td>3</td>\n",
       "      <td>5</td>\n",
       "      <td>4</td>\n",
       "      <td>3</td>\n",
       "      <td>3</td>\n",
       "    </tr>\n",
       "  </tbody>\n",
       "</table>\n",
       "</div>"
      ],
      "text/plain": [
       "           Airline        Source  Route  Duration  Total_Stops   \n",
       "8843   5655.252017   5167.516044      1        90          0.0  \\\n",
       "136   11710.936458  10508.208797      0      1300          2.0   \n",
       "6244  11710.936458  10508.208797      1       610          1.0   \n",
       "402    9582.715814  10508.208797      0      1585          3.0   \n",
       "7119  11710.936458  10508.208797      0       810          2.0   \n",
       "7589  11710.936458  10508.208797      0      1615          2.0   \n",
       "4855   5655.252017   8018.702847      1       170          0.0   \n",
       "\n",
       "      Additional_Info  Journey_day  Journey_month  Jouney_wkday  Dep_hour   \n",
       "8843                0           15              5             2         0  \\\n",
       "136                 0            6              6             3         0   \n",
       "6244                1           18              5             5         2   \n",
       "402                 0           15              6             5         0   \n",
       "7119                0            6              6             3         0   \n",
       "7589                1           24              6             0         1   \n",
       "4855                0            3              5             4         3   \n",
       "\n",
       "      Arri_hour  \n",
       "8843          0  \n",
       "136           0  \n",
       "6244          0  \n",
       "402           1  \n",
       "7119          3  \n",
       "7589          1  \n",
       "4855          3  "
      ]
     },
     "execution_count": 78,
     "metadata": {},
     "output_type": "execute_result"
    }
   ],
   "source": [
    "x_train.head(7)"
   ]
  },
  {
   "cell_type": "code",
   "execution_count": 79,
   "id": "7e9612ea",
   "metadata": {},
   "outputs": [],
   "source": [
    "x_train_c = sma.add_constant(x_train)\n",
    "x_test_c = sma.add_constant(x_test)"
   ]
  },
  {
   "cell_type": "markdown",
   "id": "bd870e38",
   "metadata": {},
   "source": [
    "### Lets check the assumptions for Linear Regression Model\n",
    "\n",
    "Checks Before we fit the model\n",
    "\n",
    "* Variables muste be numeric\n",
    "* There should be no multicolinearity\n",
    "\n",
    "Checks after fitting the model\n",
    "\n",
    "* Linear relation\n",
    "* Absence of Autocorelation\n",
    "* Error terms must be homoscedastic\n",
    "* Error terms must follow N(0,1)"
   ]
  },
  {
   "cell_type": "markdown",
   "id": "6a005c6e",
   "metadata": {},
   "source": [
    "#### Lets check for multicoliniarity"
   ]
  },
  {
   "cell_type": "code",
   "execution_count": 80,
   "id": "07bfbcc9",
   "metadata": {},
   "outputs": [],
   "source": [
    "# Using VIF\n",
    "vif = [variance_inflation_factor(x_train_c.values,i) for i in \\\n",
    "       range(x_train_c.shape[1])]"
   ]
  },
  {
   "cell_type": "code",
   "execution_count": 81,
   "id": "a2fbabc7",
   "metadata": {},
   "outputs": [
    {
     "data": {
      "text/html": [
       "<div>\n",
       "<style scoped>\n",
       "    .dataframe tbody tr th:only-of-type {\n",
       "        vertical-align: middle;\n",
       "    }\n",
       "\n",
       "    .dataframe tbody tr th {\n",
       "        vertical-align: top;\n",
       "    }\n",
       "\n",
       "    .dataframe thead th {\n",
       "        text-align: right;\n",
       "    }\n",
       "</style>\n",
       "<table border=\"1\" class=\"dataframe\">\n",
       "  <thead>\n",
       "    <tr style=\"text-align: right;\">\n",
       "      <th></th>\n",
       "      <th>VIF</th>\n",
       "    </tr>\n",
       "  </thead>\n",
       "  <tbody>\n",
       "    <tr>\n",
       "      <th>const</th>\n",
       "      <td>62.231367</td>\n",
       "    </tr>\n",
       "    <tr>\n",
       "      <th>Total_Stops</th>\n",
       "      <td>3.992465</td>\n",
       "    </tr>\n",
       "    <tr>\n",
       "      <th>Duration</th>\n",
       "      <td>2.348940</td>\n",
       "    </tr>\n",
       "    <tr>\n",
       "      <th>Route</th>\n",
       "      <td>1.708796</td>\n",
       "    </tr>\n",
       "    <tr>\n",
       "      <th>Airline</th>\n",
       "      <td>1.672166</td>\n",
       "    </tr>\n",
       "    <tr>\n",
       "      <th>Source</th>\n",
       "      <td>1.598499</td>\n",
       "    </tr>\n",
       "    <tr>\n",
       "      <th>Additional_Info</th>\n",
       "      <td>1.157606</td>\n",
       "    </tr>\n",
       "    <tr>\n",
       "      <th>Journey_month</th>\n",
       "      <td>1.043089</td>\n",
       "    </tr>\n",
       "    <tr>\n",
       "      <th>Dep_hour</th>\n",
       "      <td>1.025493</td>\n",
       "    </tr>\n",
       "    <tr>\n",
       "      <th>Journey_day</th>\n",
       "      <td>1.025329</td>\n",
       "    </tr>\n",
       "    <tr>\n",
       "      <th>Jouney_wkday</th>\n",
       "      <td>1.019130</td>\n",
       "    </tr>\n",
       "    <tr>\n",
       "      <th>Arri_hour</th>\n",
       "      <td>1.016385</td>\n",
       "    </tr>\n",
       "  </tbody>\n",
       "</table>\n",
       "</div>"
      ],
      "text/plain": [
       "                       VIF\n",
       "const            62.231367\n",
       "Total_Stops       3.992465\n",
       "Duration          2.348940\n",
       "Route             1.708796\n",
       "Airline           1.672166\n",
       "Source            1.598499\n",
       "Additional_Info   1.157606\n",
       "Journey_month     1.043089\n",
       "Dep_hour          1.025493\n",
       "Journey_day       1.025329\n",
       "Jouney_wkday      1.019130\n",
       "Arri_hour         1.016385"
      ]
     },
     "execution_count": 81,
     "metadata": {},
     "output_type": "execute_result"
    }
   ],
   "source": [
    "pd.DataFrame({'VIF':vif},index=x_train_c.columns).\\\n",
    "sort_values(by='VIF',ascending=False)"
   ]
  },
  {
   "cell_type": "code",
   "execution_count": 82,
   "id": "cf3def4a",
   "metadata": {},
   "outputs": [
    {
     "data": {
      "text/html": [
       "<div>\n",
       "<style scoped>\n",
       "    .dataframe tbody tr th:only-of-type {\n",
       "        vertical-align: middle;\n",
       "    }\n",
       "\n",
       "    .dataframe tbody tr th {\n",
       "        vertical-align: top;\n",
       "    }\n",
       "\n",
       "    .dataframe thead th {\n",
       "        text-align: right;\n",
       "    }\n",
       "</style>\n",
       "<table border=\"1\" class=\"dataframe\">\n",
       "  <thead>\n",
       "    <tr style=\"text-align: right;\">\n",
       "      <th></th>\n",
       "      <th>const</th>\n",
       "      <th>Airline</th>\n",
       "      <th>Source</th>\n",
       "      <th>Route</th>\n",
       "      <th>Duration</th>\n",
       "      <th>Total_Stops</th>\n",
       "      <th>Additional_Info</th>\n",
       "      <th>Journey_day</th>\n",
       "      <th>Journey_month</th>\n",
       "      <th>Jouney_wkday</th>\n",
       "      <th>Dep_hour</th>\n",
       "      <th>Arri_hour</th>\n",
       "    </tr>\n",
       "  </thead>\n",
       "  <tbody>\n",
       "    <tr>\n",
       "      <th>8843</th>\n",
       "      <td>1.0</td>\n",
       "      <td>5655.252017</td>\n",
       "      <td>5167.516044</td>\n",
       "      <td>1</td>\n",
       "      <td>90</td>\n",
       "      <td>0.0</td>\n",
       "      <td>0</td>\n",
       "      <td>15</td>\n",
       "      <td>5</td>\n",
       "      <td>2</td>\n",
       "      <td>0</td>\n",
       "      <td>0</td>\n",
       "    </tr>\n",
       "    <tr>\n",
       "      <th>136</th>\n",
       "      <td>1.0</td>\n",
       "      <td>11710.936458</td>\n",
       "      <td>10508.208797</td>\n",
       "      <td>0</td>\n",
       "      <td>1300</td>\n",
       "      <td>2.0</td>\n",
       "      <td>0</td>\n",
       "      <td>6</td>\n",
       "      <td>6</td>\n",
       "      <td>3</td>\n",
       "      <td>0</td>\n",
       "      <td>0</td>\n",
       "    </tr>\n",
       "    <tr>\n",
       "      <th>6244</th>\n",
       "      <td>1.0</td>\n",
       "      <td>11710.936458</td>\n",
       "      <td>10508.208797</td>\n",
       "      <td>1</td>\n",
       "      <td>610</td>\n",
       "      <td>1.0</td>\n",
       "      <td>1</td>\n",
       "      <td>18</td>\n",
       "      <td>5</td>\n",
       "      <td>5</td>\n",
       "      <td>2</td>\n",
       "      <td>0</td>\n",
       "    </tr>\n",
       "    <tr>\n",
       "      <th>402</th>\n",
       "      <td>1.0</td>\n",
       "      <td>9582.715814</td>\n",
       "      <td>10508.208797</td>\n",
       "      <td>0</td>\n",
       "      <td>1585</td>\n",
       "      <td>3.0</td>\n",
       "      <td>0</td>\n",
       "      <td>15</td>\n",
       "      <td>6</td>\n",
       "      <td>5</td>\n",
       "      <td>0</td>\n",
       "      <td>1</td>\n",
       "    </tr>\n",
       "    <tr>\n",
       "      <th>7119</th>\n",
       "      <td>1.0</td>\n",
       "      <td>11710.936458</td>\n",
       "      <td>10508.208797</td>\n",
       "      <td>0</td>\n",
       "      <td>810</td>\n",
       "      <td>2.0</td>\n",
       "      <td>0</td>\n",
       "      <td>6</td>\n",
       "      <td>6</td>\n",
       "      <td>3</td>\n",
       "      <td>0</td>\n",
       "      <td>3</td>\n",
       "    </tr>\n",
       "  </tbody>\n",
       "</table>\n",
       "</div>"
      ],
      "text/plain": [
       "      const       Airline        Source  Route  Duration  Total_Stops   \n",
       "8843    1.0   5655.252017   5167.516044      1        90          0.0  \\\n",
       "136     1.0  11710.936458  10508.208797      0      1300          2.0   \n",
       "6244    1.0  11710.936458  10508.208797      1       610          1.0   \n",
       "402     1.0   9582.715814  10508.208797      0      1585          3.0   \n",
       "7119    1.0  11710.936458  10508.208797      0       810          2.0   \n",
       "\n",
       "      Additional_Info  Journey_day  Journey_month  Jouney_wkday  Dep_hour   \n",
       "8843                0           15              5             2         0  \\\n",
       "136                 0            6              6             3         0   \n",
       "6244                1           18              5             5         2   \n",
       "402                 0           15              6             5         0   \n",
       "7119                0            6              6             3         0   \n",
       "\n",
       "      Arri_hour  \n",
       "8843          0  \n",
       "136           0  \n",
       "6244          0  \n",
       "402           1  \n",
       "7119          3  "
      ]
     },
     "execution_count": 82,
     "metadata": {},
     "output_type": "execute_result"
    }
   ],
   "source": [
    "x_train_c.head()"
   ]
  },
  {
   "cell_type": "code",
   "execution_count": 83,
   "id": "3342f19a",
   "metadata": {},
   "outputs": [
    {
     "data": {
      "text/plain": [
       "8843     2754\n",
       "136     13376\n",
       "6244    12373\n",
       "402     10493\n",
       "7119    13014\n",
       "        ...  \n",
       "6400    10588\n",
       "9162     3687\n",
       "9861     7050\n",
       "1688     7530\n",
       "5994     9397\n",
       "Name: Price, Length: 8544, dtype: int64"
      ]
     },
     "execution_count": 83,
     "metadata": {},
     "output_type": "execute_result"
    }
   ],
   "source": [
    "y_train"
   ]
  },
  {
   "cell_type": "markdown",
   "id": "2d1ce5f4",
   "metadata": {},
   "source": [
    "### Build a Base Model"
   ]
  },
  {
   "cell_type": "code",
   "execution_count": 84,
   "id": "eec5b7d1",
   "metadata": {},
   "outputs": [
    {
     "data": {
      "text/html": [
       "<table class=\"simpletable\">\n",
       "<caption>OLS Regression Results</caption>\n",
       "<tr>\n",
       "  <th>Dep. Variable:</th>          <td>Price</td>      <th>  R-squared:         </th> <td>   0.624</td> \n",
       "</tr>\n",
       "<tr>\n",
       "  <th>Model:</th>                   <td>OLS</td>       <th>  Adj. R-squared:    </th> <td>   0.624</td> \n",
       "</tr>\n",
       "<tr>\n",
       "  <th>Method:</th>             <td>Least Squares</td>  <th>  F-statistic:       </th> <td>   1288.</td> \n",
       "</tr>\n",
       "<tr>\n",
       "  <th>Date:</th>             <td>Sun, 17 Sep 2023</td> <th>  Prob (F-statistic):</th>  <td>  0.00</td>  \n",
       "</tr>\n",
       "<tr>\n",
       "  <th>Time:</th>                 <td>11:59:45</td>     <th>  Log-Likelihood:    </th> <td> -79906.</td> \n",
       "</tr>\n",
       "<tr>\n",
       "  <th>No. Observations:</th>      <td>  8544</td>      <th>  AIC:               </th> <td>1.598e+05</td>\n",
       "</tr>\n",
       "<tr>\n",
       "  <th>Df Residuals:</th>          <td>  8532</td>      <th>  BIC:               </th> <td>1.599e+05</td>\n",
       "</tr>\n",
       "<tr>\n",
       "  <th>Df Model:</th>              <td>    11</td>      <th>                     </th>     <td> </td>    \n",
       "</tr>\n",
       "<tr>\n",
       "  <th>Covariance Type:</th>      <td>nonrobust</td>    <th>                     </th>     <td> </td>    \n",
       "</tr>\n",
       "</table>\n",
       "<table class=\"simpletable\">\n",
       "<tr>\n",
       "         <td></td>            <th>coef</th>     <th>std err</th>      <th>t</th>      <th>P>|t|</th>  <th>[0.025</th>    <th>0.975]</th>  \n",
       "</tr>\n",
       "<tr>\n",
       "  <th>const</th>           <td> 1952.9319</td> <td>  238.162</td> <td>    8.200</td> <td> 0.000</td> <td> 1486.077</td> <td> 2419.787</td>\n",
       "</tr>\n",
       "<tr>\n",
       "  <th>Airline</th>         <td>    0.7404</td> <td>    0.014</td> <td>   53.872</td> <td> 0.000</td> <td>    0.713</td> <td>    0.767</td>\n",
       "</tr>\n",
       "<tr>\n",
       "  <th>Source</th>          <td>    0.0548</td> <td>    0.023</td> <td>    2.382</td> <td> 0.017</td> <td>    0.010</td> <td>    0.100</td>\n",
       "</tr>\n",
       "<tr>\n",
       "  <th>Route</th>           <td> 1402.1311</td> <td>   84.250</td> <td>   16.642</td> <td> 0.000</td> <td> 1236.981</td> <td> 1567.282</td>\n",
       "</tr>\n",
       "<tr>\n",
       "  <th>Duration</th>        <td>   -0.1148</td> <td>    0.091</td> <td>   -1.257</td> <td> 0.209</td> <td>   -0.294</td> <td>    0.064</td>\n",
       "</tr>\n",
       "<tr>\n",
       "  <th>Total_Stops</th>     <td> 3283.3139</td> <td>   89.395</td> <td>   36.728</td> <td> 0.000</td> <td> 3108.078</td> <td> 3458.550</td>\n",
       "</tr>\n",
       "<tr>\n",
       "  <th>Additional_Info</th> <td>-1995.2534</td> <td>   78.911</td> <td>  -25.285</td> <td> 0.000</td> <td>-2149.937</td> <td>-1840.569</td>\n",
       "</tr>\n",
       "<tr>\n",
       "  <th>Journey_day</th>     <td>  -70.8271</td> <td>    3.615</td> <td>  -19.590</td> <td> 0.000</td> <td>  -77.914</td> <td>  -63.740</td>\n",
       "</tr>\n",
       "<tr>\n",
       "  <th>Journey_month</th>   <td> -551.3574</td> <td>   26.481</td> <td>  -20.821</td> <td> 0.000</td> <td> -603.266</td> <td> -499.449</td>\n",
       "</tr>\n",
       "<tr>\n",
       "  <th>Jouney_wkday</th>    <td>  136.2548</td> <td>   15.163</td> <td>    8.986</td> <td> 0.000</td> <td>  106.532</td> <td>  165.978</td>\n",
       "</tr>\n",
       "<tr>\n",
       "  <th>Dep_hour</th>        <td>  100.9332</td> <td>   30.499</td> <td>    3.309</td> <td> 0.001</td> <td>   41.147</td> <td>  160.719</td>\n",
       "</tr>\n",
       "<tr>\n",
       "  <th>Arri_hour</th>       <td> -140.9904</td> <td>   26.899</td> <td>   -5.241</td> <td> 0.000</td> <td> -193.719</td> <td>  -88.262</td>\n",
       "</tr>\n",
       "</table>\n",
       "<table class=\"simpletable\">\n",
       "<tr>\n",
       "  <th>Omnibus:</th>       <td>4247.218</td> <th>  Durbin-Watson:     </th> <td>   1.964</td> \n",
       "</tr>\n",
       "<tr>\n",
       "  <th>Prob(Omnibus):</th>  <td> 0.000</td>  <th>  Jarque-Bera (JB):  </th> <td>79744.216</td>\n",
       "</tr>\n",
       "<tr>\n",
       "  <th>Skew:</th>           <td> 1.940</td>  <th>  Prob(JB):          </th> <td>    0.00</td> \n",
       "</tr>\n",
       "<tr>\n",
       "  <th>Kurtosis:</th>       <td>17.455</td>  <th>  Cond. No.          </th> <td>1.04e+05</td> \n",
       "</tr>\n",
       "</table><br/><br/>Notes:<br/>[1] Standard Errors assume that the covariance matrix of the errors is correctly specified.<br/>[2] The condition number is large, 1.04e+05. This might indicate that there are<br/>strong multicollinearity or other numerical problems."
      ],
      "text/plain": [
       "<class 'statsmodels.iolib.summary.Summary'>\n",
       "\"\"\"\n",
       "                            OLS Regression Results                            \n",
       "==============================================================================\n",
       "Dep. Variable:                  Price   R-squared:                       0.624\n",
       "Model:                            OLS   Adj. R-squared:                  0.624\n",
       "Method:                 Least Squares   F-statistic:                     1288.\n",
       "Date:                Sun, 17 Sep 2023   Prob (F-statistic):               0.00\n",
       "Time:                        11:59:45   Log-Likelihood:                -79906.\n",
       "No. Observations:                8544   AIC:                         1.598e+05\n",
       "Df Residuals:                    8532   BIC:                         1.599e+05\n",
       "Df Model:                          11                                         \n",
       "Covariance Type:            nonrobust                                         \n",
       "===================================================================================\n",
       "                      coef    std err          t      P>|t|      [0.025      0.975]\n",
       "-----------------------------------------------------------------------------------\n",
       "const            1952.9319    238.162      8.200      0.000    1486.077    2419.787\n",
       "Airline             0.7404      0.014     53.872      0.000       0.713       0.767\n",
       "Source              0.0548      0.023      2.382      0.017       0.010       0.100\n",
       "Route            1402.1311     84.250     16.642      0.000    1236.981    1567.282\n",
       "Duration           -0.1148      0.091     -1.257      0.209      -0.294       0.064\n",
       "Total_Stops      3283.3139     89.395     36.728      0.000    3108.078    3458.550\n",
       "Additional_Info -1995.2534     78.911    -25.285      0.000   -2149.937   -1840.569\n",
       "Journey_day       -70.8271      3.615    -19.590      0.000     -77.914     -63.740\n",
       "Journey_month    -551.3574     26.481    -20.821      0.000    -603.266    -499.449\n",
       "Jouney_wkday      136.2548     15.163      8.986      0.000     106.532     165.978\n",
       "Dep_hour          100.9332     30.499      3.309      0.001      41.147     160.719\n",
       "Arri_hour        -140.9904     26.899     -5.241      0.000    -193.719     -88.262\n",
       "==============================================================================\n",
       "Omnibus:                     4247.218   Durbin-Watson:                   1.964\n",
       "Prob(Omnibus):                  0.000   Jarque-Bera (JB):            79744.216\n",
       "Skew:                           1.940   Prob(JB):                         0.00\n",
       "Kurtosis:                      17.455   Cond. No.                     1.04e+05\n",
       "==============================================================================\n",
       "\n",
       "Notes:\n",
       "[1] Standard Errors assume that the covariance matrix of the errors is correctly specified.\n",
       "[2] The condition number is large, 1.04e+05. This might indicate that there are\n",
       "strong multicollinearity or other numerical problems.\n",
       "\"\"\""
      ]
     },
     "execution_count": 84,
     "metadata": {},
     "output_type": "execute_result"
    }
   ],
   "source": [
    "base_model = sma.OLS(y_train,x_train_c).fit()\n",
    "base_model.summary()"
   ]
  },
  {
   "cell_type": "code",
   "execution_count": 85,
   "id": "93e53118",
   "metadata": {},
   "outputs": [
    {
     "data": {
      "text/plain": [
       "<Axes: >"
      ]
     },
     "execution_count": 85,
     "metadata": {},
     "output_type": "execute_result"
    },
    {
     "data": {
      "image/png": "[encoded data removed]",
      "text/plain": [
       "<Figure size 720x576 with 2 Axes>"
      ]
     },
     "metadata": {
      "needs_background": "light"
     },
     "output_type": "display_data"
    }
   ],
   "source": [
    "plt.figure(figsize=(10,8))\n",
    "sns.heatmap(x_train_c.corr(),annot=True,vmax=1,vmin=-1)"
   ]
  },
  {
   "cell_type": "markdown",
   "id": "9f9d719e",
   "metadata": {},
   "source": [
    "### Lets check the model is linear or not"
   ]
  },
  {
   "cell_type": "code",
   "execution_count": 86,
   "id": "874f647c",
   "metadata": {},
   "outputs": [
    {
     "data": {
      "text/plain": [
       "0.03965655925271036"
      ]
     },
     "execution_count": 86,
     "metadata": {},
     "output_type": "execute_result"
    }
   ],
   "source": [
    "p = smsa.linear_rainbow(base_model)[1]\n",
    "p"
   ]
  },
  {
   "cell_type": "code",
   "execution_count": 87,
   "id": "217dd089",
   "metadata": {},
   "outputs": [
    {
     "name": "stdout",
     "output_type": "stream",
     "text": [
      "Reject Ho: The model is not linear\n"
     ]
    }
   ],
   "source": [
    "if p< 0.05:\n",
    "    print('Reject Ho: The model is not linear')\n",
    "else:\n",
    "    print('Fail to reject Ho: The model is linear')"
   ]
  },
  {
   "cell_type": "markdown",
   "id": "a962720d",
   "metadata": {},
   "source": [
    "### Check for Autocorrelation"
   ]
  },
  {
   "cell_type": "raw",
   "id": "c468b1e8",
   "metadata": {},
   "source": [
    "The durbin watson number in model summary is 2.017 ~ 2. hence we can say that there is no Autocorrelation in the dataset "
   ]
  },
  {
   "cell_type": "markdown",
   "id": "d6257feb",
   "metadata": {},
   "source": [
    "### Check for Homoscedasticty"
   ]
  },
  {
   "cell_type": "code",
   "execution_count": 88,
   "id": "91380cee",
   "metadata": {},
   "outputs": [],
   "source": [
    "# Residual plot to check the Homoscedasticity\n",
    "y_pred_train = base_model.predict(x_train_c)"
   ]
  },
  {
   "cell_type": "code",
   "execution_count": 89,
   "id": "8b46e903",
   "metadata": {},
   "outputs": [
    {
     "data": {
      "text/plain": [
       "<Axes: ylabel='Price'>"
      ]
     },
     "execution_count": 89,
     "metadata": {},
     "output_type": "execute_result"
    },
    {
     "data": {
      "image/png": "[encoded data removed]",
      "text/plain": [
       "<Figure size 432x288 with 1 Axes>"
      ]
     },
     "metadata": {
      "needs_background": "light"
     },
     "output_type": "display_data"
    }
   ],
   "source": [
    "sns.residplot(x=y_pred_train,y=y_train)"
   ]
  },
  {
   "cell_type": "code",
   "execution_count": 90,
   "id": "1bd3f5a9",
   "metadata": {},
   "outputs": [
    {
     "data": {
      "text/plain": [
       "1571     -9105.652789\n",
       "5050     -8085.504625\n",
       "5082     -7795.937929\n",
       "7948     -7444.180970\n",
       "1369     -7406.816118\n",
       "             ...     \n",
       "396      23303.662655\n",
       "10052    23667.286323\n",
       "5439     33547.666819\n",
       "2618     34773.989385\n",
       "1478     34873.775008\n",
       "Length: 8544, dtype: float64"
      ]
     },
     "execution_count": 90,
     "metadata": {},
     "output_type": "execute_result"
    }
   ],
   "source": [
    "base_model.resid.sort_values()"
   ]
  },
  {
   "cell_type": "raw",
   "id": "16feaf4a",
   "metadata": {},
   "source": [
    "Since the residuals are increasing when when price is increasing, hence there is a heteroscedasicty in the dataset. Or it fails to meet the homoscedascity assumption in LM"
   ]
  },
  {
   "cell_type": "markdown",
   "id": "ee7d8e76",
   "metadata": {},
   "source": [
    "### Normality of Residuals"
   ]
  },
  {
   "cell_type": "code",
   "execution_count": 91,
   "id": "d7dbbc63",
   "metadata": {},
   "outputs": [
    {
     "data": {
      "text/plain": [
       "<Axes: ylabel='Density'>"
      ]
     },
     "execution_count": 91,
     "metadata": {},
     "output_type": "execute_result"
    },
    {
     "data": {
      "image/png": "[encoded data removed]",
      "text/plain": [
       "<Figure size 432x288 with 1 Axes>"
      ]
     },
     "metadata": {
      "needs_background": "light"
     },
     "output_type": "display_data"
    }
   ],
   "source": [
    "sns.distplot(base_model.resid)"
   ]
  },
  {
   "cell_type": "code",
   "execution_count": 92,
   "id": "4f17b768",
   "metadata": {},
   "outputs": [
    {
     "data": {
      "image/png": "[encoded data removed]",
      "text/plain": [
       "<Figure size 432x288 with 1 Axes>"
      ]
     },
     "metadata": {
      "needs_background": "light"
     },
     "output_type": "display_data"
    }
   ],
   "source": [
    "qqplot(base_model.resid,line='r')\n",
    "plt.show()"
   ]
  },
  {
   "cell_type": "code",
   "execution_count": 93,
   "id": "bebbb908",
   "metadata": {},
   "outputs": [],
   "source": [
    "import scipy.stats as stats"
   ]
  },
  {
   "cell_type": "code",
   "execution_count": 94,
   "id": "9dd81362",
   "metadata": {},
   "outputs": [
    {
     "name": "stdout",
     "output_type": "stream",
     "text": [
      "Reject Ho: Resid is not normal\n"
     ]
    }
   ],
   "source": [
    "p = stats.jarque_bera(base_model.resid)[1]\n",
    "# Ho: The Resid is normal\n",
    "# Ha: Resid is not normal\n",
    "print('Reject Ho: Resid is not normal')"
   ]
  },
  {
   "cell_type": "markdown",
   "id": "09fb27c5",
   "metadata": {},
   "source": [
    "Assumption Summary\n",
    "* There is no multicolinearity in dataset\n",
    "* The model is not able to establish a linear relation bw the target and predictor variable.\n",
    "* Autocorrelation is not present\n",
    "* Residual are not Homoscedastic\n",
    "* The residuals does not follow N(0,1)"
   ]
  },
  {
   "cell_type": "markdown",
   "id": "ce66b1ea",
   "metadata": {},
   "source": [
    "## lets validate the Base Model"
   ]
  },
  {
   "cell_type": "code",
   "execution_count": 95,
   "id": "3bffb8c1",
   "metadata": {},
   "outputs": [],
   "source": [
    "def validation(fitted_model,xtrain,ytrain,xtest,ytest):\n",
    "    y_pred_test = fitted_model.predict(xtest)\n",
    "    r2 = r2_score(ytest,y_pred_test)\n",
    "    print('R2:',r2)\n",
    "    n = xtrain.shape[0]\n",
    "    k = xtrain.shape[1]\n",
    "    adj_r2 = 1 - (((1-r2)*(n-1))/(n-k-1))\n",
    "    print('Adj R2:',adj_r2)\n",
    "    print('MSE:',mean_squared_error(ytest,y_pred_test))\n",
    "    print('RMSE:',np.sqrt(mean_squared_error(ytest,y_pred_test)))\n",
    "    print('MAE:',mean_absolute_error(ytest,y_pred_test))\n",
    "    print('MAPE:',mean_absolute_percentage_error(ytest,y_pred_test))  "
   ]
  },
  {
   "cell_type": "code",
   "execution_count": 96,
   "id": "d6011d89",
   "metadata": {},
   "outputs": [
    {
     "name": "stdout",
     "output_type": "stream",
     "text": [
      "R2: 0.6302256118876297\n",
      "Adj R2: 0.6297054744292605\n",
      "MSE: 7303470.031752557\n",
      "RMSE: 2702.4932991133496\n",
      "MAE: 1921.325564406586\n",
      "MAPE: 0.259612114528879\n"
     ]
    }
   ],
   "source": [
    "validation(base_model,x_train_c,y_train,x_test_c,y_test)"
   ]
  },
  {
   "cell_type": "markdown",
   "id": "8c48c294",
   "metadata": {},
   "source": [
    "## Lets try Sklearn Models "
   ]
  },
  {
   "cell_type": "code",
   "execution_count": 97,
   "id": "376665f4",
   "metadata": {},
   "outputs": [],
   "source": [
    "def model_validation(model,xtrain,ytrain,xtest,ytest):\n",
    "    global m\n",
    "    m = model.fit(xtrain,ytrain)\n",
    "    print('%s'%model)\n",
    "    print('Train parameters:')\n",
    "    validation(m,xtrain,ytrain,xtrain,ytrain)\n",
    "    print()\n",
    "    print('Test parameters:')\n",
    "    validation(m,xtrain,ytrain,xtest,ytest)   "
   ]
  },
  {
   "cell_type": "code",
   "execution_count": 98,
   "id": "e1fc7565",
   "metadata": {},
   "outputs": [
    {
     "name": "stdout",
     "output_type": "stream",
     "text": [
      "LinearRegression()\n",
      "Train parameters:\n",
      "R2: 0.6241224635022492\n",
      "Adj R2: 0.6236378581457707\n",
      "MSE: 7776526.492959354\n",
      "RMSE: 2788.6424103780955\n",
      "MAE: 1950.883123505213\n",
      "MAPE: 0.25849392415569206\n",
      "\n",
      "Test parameters:\n",
      "R2: 0.6302256118876314\n",
      "Adj R2: 0.6297488751003323\n",
      "MSE: 7303470.031752522\n",
      "RMSE: 2702.4932991133433\n",
      "MAE: 1921.3255644065862\n",
      "MAPE: 0.25961211452887717\n"
     ]
    }
   ],
   "source": [
    "# Linear Regression\n",
    "model_validation(LinearRegression(),x_train,y_train,x_test,y_test)"
   ]
  },
  {
   "cell_type": "markdown",
   "id": "474babc8",
   "metadata": {},
   "source": [
    "It seems the Linear regression is underfitted over here"
   ]
  },
  {
   "cell_type": "code",
   "execution_count": 99,
   "id": "63bc207c",
   "metadata": {},
   "outputs": [
    {
     "name": "stdout",
     "output_type": "stream",
     "text": [
      "SGDRegressor(eta0=0.1)\n",
      "Train parameters:\n",
      "R2: -7.022314163907587e+27\n",
      "Adj R2: -7.031367780387075e+27\n",
      "MSE: 1.4528458562949487e+35\n",
      "RMSE: 3.8116215136014605e+17\n",
      "MAE: 3.722061448255093e+17\n",
      "MAPE: 48783254110327.805\n",
      "\n",
      "Test parameters:\n",
      "R2: -7.347208765192626e+27\n",
      "Adj R2: -7.356681256568285e+27\n",
      "MSE: 1.4511583484064162e+35\n",
      "RMSE: 3.8094072352616966e+17\n",
      "MAE: 3.7195211889598656e+17\n",
      "MAPE: 49066533258082.59\n"
     ]
    }
   ],
   "source": [
    "# Stochastic Gradient Descent (Scalled data)\n",
    "model_validation(SGDRegressor(eta0=0.1),x_train,y_train,x_test,y_test)"
   ]
  },
  {
   "cell_type": "code",
   "execution_count": 100,
   "id": "480714d1",
   "metadata": {},
   "outputs": [
    {
     "name": "stdout",
     "output_type": "stream",
     "text": [
      "Lasso(alpha=100)\n",
      "Train parameters:\n",
      "R2: 0.6070404296285862\n",
      "Adj R2: 0.6065338010216845\n",
      "MSE: 8129936.516367243\n",
      "RMSE: 2851.304353513887\n",
      "MAE: 1981.1049832965423\n",
      "MAPE: 0.2536569707945453\n",
      "\n",
      "Test parameters:\n",
      "R2: 0.6127460994260978\n",
      "Adj R2: 0.6122468269335624\n",
      "MSE: 7648710.533898012\n",
      "RMSE: 2765.6302236376455\n",
      "MAE: 1949.9370595285304\n",
      "MAPE: 0.25436211566773775\n"
     ]
    }
   ],
   "source": [
    "# Regularization : Regularization may affect the performance because model is underfitted\n",
    "# Lasso\n",
    "model_validation(Lasso(alpha=100),x_train,y_train,x_test,y_test)"
   ]
  },
  {
   "cell_type": "code",
   "execution_count": 101,
   "id": "25855da0",
   "metadata": {},
   "outputs": [
    {
     "data": {
      "text/html": [
       "<div>\n",
       "<style scoped>\n",
       "    .dataframe tbody tr th:only-of-type {\n",
       "        vertical-align: middle;\n",
       "    }\n",
       "\n",
       "    .dataframe tbody tr th {\n",
       "        vertical-align: top;\n",
       "    }\n",
       "\n",
       "    .dataframe thead th {\n",
       "        text-align: right;\n",
       "    }\n",
       "</style>\n",
       "<table border=\"1\" class=\"dataframe\">\n",
       "  <thead>\n",
       "    <tr style=\"text-align: right;\">\n",
       "      <th></th>\n",
       "      <th>Coef</th>\n",
       "    </tr>\n",
       "  </thead>\n",
       "  <tbody>\n",
       "    <tr>\n",
       "      <th>Airline</th>\n",
       "      <td>0.798561</td>\n",
       "    </tr>\n",
       "    <tr>\n",
       "      <th>Source</th>\n",
       "      <td>0.202831</td>\n",
       "    </tr>\n",
       "    <tr>\n",
       "      <th>Route</th>\n",
       "      <td>136.408409</td>\n",
       "    </tr>\n",
       "    <tr>\n",
       "      <th>Duration</th>\n",
       "      <td>0.438931</td>\n",
       "    </tr>\n",
       "    <tr>\n",
       "      <th>Total_Stops</th>\n",
       "      <td>1990.584984</td>\n",
       "    </tr>\n",
       "    <tr>\n",
       "      <th>Additional_Info</th>\n",
       "      <td>-1294.481416</td>\n",
       "    </tr>\n",
       "    <tr>\n",
       "      <th>Journey_day</th>\n",
       "      <td>-73.707838</td>\n",
       "    </tr>\n",
       "    <tr>\n",
       "      <th>Journey_month</th>\n",
       "      <td>-500.550429</td>\n",
       "    </tr>\n",
       "    <tr>\n",
       "      <th>Jouney_wkday</th>\n",
       "      <td>106.494249</td>\n",
       "    </tr>\n",
       "    <tr>\n",
       "      <th>Dep_hour</th>\n",
       "      <td>0.000000</td>\n",
       "    </tr>\n",
       "    <tr>\n",
       "      <th>Arri_hour</th>\n",
       "      <td>-43.591028</td>\n",
       "    </tr>\n",
       "  </tbody>\n",
       "</table>\n",
       "</div>"
      ],
      "text/plain": [
       "                        Coef\n",
       "Airline             0.798561\n",
       "Source              0.202831\n",
       "Route             136.408409\n",
       "Duration            0.438931\n",
       "Total_Stops      1990.584984\n",
       "Additional_Info -1294.481416\n",
       "Journey_day       -73.707838\n",
       "Journey_month    -500.550429\n",
       "Jouney_wkday      106.494249\n",
       "Dep_hour            0.000000\n",
       "Arri_hour         -43.591028"
      ]
     },
     "execution_count": 101,
     "metadata": {},
     "output_type": "execute_result"
    }
   ],
   "source": [
    "pd.DataFrame({'Coef':m.coef_},index=x_train.columns)"
   ]
  },
  {
   "cell_type": "code",
   "execution_count": 102,
   "id": "844d22c3",
   "metadata": {},
   "outputs": [
    {
     "name": "stdout",
     "output_type": "stream",
     "text": [
      "Ridge(alpha=1000)\n",
      "Train parameters:\n",
      "R2: 0.6016943432669816\n",
      "Adj R2: 0.6011808221436736\n",
      "MSE: 8240541.642206986\n",
      "RMSE: 2870.6343623329994\n",
      "MAE: 1996.4099399822485\n",
      "MAPE: 0.25555629671761326\n",
      "\n",
      "Test parameters:\n",
      "R2: 0.6085911744277637\n",
      "Adj R2: 0.6080865451402233\n",
      "MSE: 7730775.087812684\n",
      "RMSE: 2780.4271412523444\n",
      "MAE: 1964.801014349677\n",
      "MAPE: 0.2561457739085864\n"
     ]
    }
   ],
   "source": [
    "# Lasso\n",
    "model_validation(Ridge(alpha=1000),x_train,y_train,x_test,y_test)"
   ]
  },
  {
   "cell_type": "code",
   "execution_count": 103,
   "id": "222617a4",
   "metadata": {},
   "outputs": [
    {
     "data": {
      "text/html": [
       "<div>\n",
       "<style scoped>\n",
       "    .dataframe tbody tr th:only-of-type {\n",
       "        vertical-align: middle;\n",
       "    }\n",
       "\n",
       "    .dataframe tbody tr th {\n",
       "        vertical-align: top;\n",
       "    }\n",
       "\n",
       "    .dataframe thead th {\n",
       "        text-align: right;\n",
       "    }\n",
       "</style>\n",
       "<table border=\"1\" class=\"dataframe\">\n",
       "  <thead>\n",
       "    <tr style=\"text-align: right;\">\n",
       "      <th></th>\n",
       "      <th>Coef</th>\n",
       "    </tr>\n",
       "  </thead>\n",
       "  <tbody>\n",
       "    <tr>\n",
       "      <th>Airline</th>\n",
       "      <td>0.796943</td>\n",
       "    </tr>\n",
       "    <tr>\n",
       "      <th>Source</th>\n",
       "      <td>0.263117</td>\n",
       "    </tr>\n",
       "    <tr>\n",
       "      <th>Route</th>\n",
       "      <td>247.420099</td>\n",
       "    </tr>\n",
       "    <tr>\n",
       "      <th>Duration</th>\n",
       "      <td>0.771626</td>\n",
       "    </tr>\n",
       "    <tr>\n",
       "      <th>Total_Stops</th>\n",
       "      <td>1589.171183</td>\n",
       "    </tr>\n",
       "    <tr>\n",
       "      <th>Additional_Info</th>\n",
       "      <td>-1155.671819</td>\n",
       "    </tr>\n",
       "    <tr>\n",
       "      <th>Journey_day</th>\n",
       "      <td>-75.758577</td>\n",
       "    </tr>\n",
       "    <tr>\n",
       "      <th>Journey_month</th>\n",
       "      <td>-533.788884</td>\n",
       "    </tr>\n",
       "    <tr>\n",
       "      <th>Jouney_wkday</th>\n",
       "      <td>122.671703</td>\n",
       "    </tr>\n",
       "    <tr>\n",
       "      <th>Dep_hour</th>\n",
       "      <td>70.815353</td>\n",
       "    </tr>\n",
       "    <tr>\n",
       "      <th>Arri_hour</th>\n",
       "      <td>-109.082085</td>\n",
       "    </tr>\n",
       "  </tbody>\n",
       "</table>\n",
       "</div>"
      ],
      "text/plain": [
       "                        Coef\n",
       "Airline             0.796943\n",
       "Source              0.263117\n",
       "Route             247.420099\n",
       "Duration            0.771626\n",
       "Total_Stops      1589.171183\n",
       "Additional_Info -1155.671819\n",
       "Journey_day       -75.758577\n",
       "Journey_month    -533.788884\n",
       "Jouney_wkday      122.671703\n",
       "Dep_hour           70.815353\n",
       "Arri_hour        -109.082085"
      ]
     },
     "execution_count": 103,
     "metadata": {},
     "output_type": "execute_result"
    }
   ],
   "source": [
    "pd.DataFrame({'Coef':m.coef_},index=x_train.columns)"
   ]
  },
  {
   "cell_type": "markdown",
   "id": "f05d2df9",
   "metadata": {},
   "source": [
    "### Other Algoritms (Models)"
   ]
  },
  {
   "cell_type": "code",
   "execution_count": 104,
   "id": "608ee5f5",
   "metadata": {},
   "outputs": [
    {
     "name": "stdout",
     "output_type": "stream",
     "text": [
      "DecisionTreeRegressor(max_depth=8)\n",
      "Train parameters:\n",
      "R2: 0.8658540373004686\n",
      "Adj R2: 0.8656810877470585\n",
      "MSE: 2775344.444832727\n",
      "RMSE: 1665.936506843141\n",
      "MAE: 1091.1691358457315\n",
      "MAPE: 0.12670398815551642\n",
      "\n",
      "Test parameters:\n",
      "R2: 0.8194774322282965\n",
      "Adj R2: 0.8192446909899598\n",
      "MSE: 3565528.620048711\n",
      "RMSE: 1888.2607394236397\n",
      "MAE: 1155.9615602221581\n",
      "MAPE: 0.13265757961403235\n"
     ]
    }
   ],
   "source": [
    "model_validation(DecisionTreeRegressor(max_depth=8),x_train,y_train,x_test,y_test)"
   ]
  },
  {
   "cell_type": "code",
   "execution_count": 105,
   "id": "b02a0f3a",
   "metadata": {},
   "outputs": [
    {
     "name": "stdout",
     "output_type": "stream",
     "text": [
      "GradientBoostingRegressor(max_depth=5, n_estimators=300)\n",
      "Train parameters:\n",
      "R2: 0.9416372233753393\n",
      "Adj R2: 0.9415619783515616\n",
      "MSE: 1207466.886298109\n",
      "RMSE: 1098.8479814324223\n",
      "MAE: 687.0662660227068\n",
      "MAPE: 0.08235931709903586\n",
      "\n",
      "Test parameters:\n",
      "R2: 0.9018233328796129\n",
      "Adj R2: 0.9016967572422097\n",
      "MSE: 1939102.2449970108\n",
      "RMSE: 1392.5165151613144\n",
      "MAE: 826.0683009394592\n",
      "MAPE: 0.09724580195376495\n"
     ]
    }
   ],
   "source": [
    "model_validation(GradientBoostingRegressor(n_estimators=300,max_depth=5),x_train,y_train,x_test,y_test)"
   ]
  },
  {
   "cell_type": "markdown",
   "id": "30cf065c",
   "metadata": {},
   "source": [
    "## K-Fold Validation"
   ]
  },
  {
   "cell_type": "code",
   "execution_count": 106,
   "id": "d567cd9d",
   "metadata": {},
   "outputs": [],
   "source": [
    "kfcv = KFold(n_splits=5,random_state=1,shuffle=True)"
   ]
  },
  {
   "cell_type": "code",
   "execution_count": 107,
   "id": "63c54d16",
   "metadata": {},
   "outputs": [],
   "source": [
    "model = GradientBoostingRegressor(n_estimators=300,max_depth=5)"
   ]
  },
  {
   "cell_type": "code",
   "execution_count": 108,
   "id": "536c702e",
   "metadata": {},
   "outputs": [
    {
     "data": {
      "text/plain": [
       "array([0.9085289 , 0.88377247, 0.8890407 , 0.90316078, 0.8653402 ])"
      ]
     },
     "execution_count": 108,
     "metadata": {},
     "output_type": "execute_result"
    }
   ],
   "source": [
    "score = cross_val_score(estimator=model,\n",
    "                       X=x_train,y=y_train,\n",
    "                       cv=kfcv,scoring='r2')\n",
    "score"
   ]
  },
  {
   "cell_type": "code",
   "execution_count": 109,
   "id": "62fba37a",
   "metadata": {},
   "outputs": [
    {
     "name": "stdout",
     "output_type": "stream",
     "text": [
      "Sum: 0.8899686140857165 Std dev: 0.015259944525649742\n"
     ]
    }
   ],
   "source": [
    "print('Sum:',np.mean(score),'Std dev:',np.std(score))"
   ]
  }
 ],
 "metadata": {
  "kernelspec": {
   "display_name": "Python 3 (ipykernel)",
   "language": "python",
   "name": "python3"
  },
  "language_info": {
   "codemirror_mode": {
    "name": "ipython",
    "version": 3
   },
   "file_extension": ".py",
   "mimetype": "text/x-python",
   "name": "python",
   "nbconvert_exporter": "python",
   "pygments_lexer": "ipython3",
   "version": "3.9.12"
  }
 },
 "nbformat": 4,
 "nbformat_minor": 5
}
